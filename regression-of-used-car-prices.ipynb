{
 "cells": [
  {
   "cell_type": "markdown",
   "id": "df2cb9bc",
   "metadata": {
    "papermill": {
     "duration": 0.015274,
     "end_time": "2024-09-11T15:34:59.393035",
     "exception": false,
     "start_time": "2024-09-11T15:34:59.377761",
     "status": "completed"
    },
    "tags": []
   },
   "source": [
    "# Data loading and preparation"
   ]
  },
  {
   "cell_type": "code",
   "execution_count": 1,
   "id": "a7412d1b",
   "metadata": {
    "_cell_guid": "b1076dfc-b9ad-4769-8c92-a6c4dae69d19",
    "_uuid": "8f2839f25d086af736a60e9eeb907d3b93b6e0e5",
    "execution": {
     "iopub.execute_input": "2024-09-11T15:34:59.423648Z",
     "iopub.status.busy": "2024-09-11T15:34:59.423251Z",
     "iopub.status.idle": "2024-09-11T15:35:00.355803Z",
     "shell.execute_reply": "2024-09-11T15:35:00.354664Z"
    },
    "papermill": {
     "duration": 0.950766,
     "end_time": "2024-09-11T15:35:00.358584",
     "exception": false,
     "start_time": "2024-09-11T15:34:59.407818",
     "status": "completed"
    },
    "tags": []
   },
   "outputs": [],
   "source": [
    "import pandas as pd\n",
    "import numpy as np"
   ]
  },
  {
   "cell_type": "code",
   "execution_count": 2,
   "id": "1d67b622",
   "metadata": {
    "execution": {
     "iopub.execute_input": "2024-09-11T15:35:00.393792Z",
     "iopub.status.busy": "2024-09-11T15:35:00.393208Z",
     "iopub.status.idle": "2024-09-11T15:35:01.863365Z",
     "shell.execute_reply": "2024-09-11T15:35:01.862312Z"
    },
    "papermill": {
     "duration": 1.490816,
     "end_time": "2024-09-11T15:35:01.865953",
     "exception": false,
     "start_time": "2024-09-11T15:35:00.375137",
     "status": "completed"
    },
    "tags": []
   },
   "outputs": [
    {
     "data": {
      "text/html": [
       "<div>\n",
       "<style scoped>\n",
       "    .dataframe tbody tr th:only-of-type {\n",
       "        vertical-align: middle;\n",
       "    }\n",
       "\n",
       "    .dataframe tbody tr th {\n",
       "        vertical-align: top;\n",
       "    }\n",
       "\n",
       "    .dataframe thead th {\n",
       "        text-align: right;\n",
       "    }\n",
       "</style>\n",
       "<table border=\"1\" class=\"dataframe\">\n",
       "  <thead>\n",
       "    <tr style=\"text-align: right;\">\n",
       "      <th></th>\n",
       "      <th>brand</th>\n",
       "      <th>model</th>\n",
       "      <th>model_year</th>\n",
       "      <th>milage</th>\n",
       "      <th>fuel_type</th>\n",
       "      <th>engine</th>\n",
       "      <th>transmission</th>\n",
       "      <th>ext_col</th>\n",
       "      <th>int_col</th>\n",
       "      <th>accident</th>\n",
       "      <th>clean_title</th>\n",
       "      <th>price</th>\n",
       "    </tr>\n",
       "    <tr>\n",
       "      <th>id</th>\n",
       "      <th></th>\n",
       "      <th></th>\n",
       "      <th></th>\n",
       "      <th></th>\n",
       "      <th></th>\n",
       "      <th></th>\n",
       "      <th></th>\n",
       "      <th></th>\n",
       "      <th></th>\n",
       "      <th></th>\n",
       "      <th></th>\n",
       "      <th></th>\n",
       "    </tr>\n",
       "  </thead>\n",
       "  <tbody>\n",
       "    <tr>\n",
       "      <th>0</th>\n",
       "      <td>MINI</td>\n",
       "      <td>Cooper S Base</td>\n",
       "      <td>2007</td>\n",
       "      <td>213000</td>\n",
       "      <td>Gasoline</td>\n",
       "      <td>172.0HP 1.6L 4 Cylinder Engine Gasoline Fuel</td>\n",
       "      <td>A/T</td>\n",
       "      <td>Yellow</td>\n",
       "      <td>Gray</td>\n",
       "      <td>None reported</td>\n",
       "      <td>Yes</td>\n",
       "      <td>4200</td>\n",
       "    </tr>\n",
       "    <tr>\n",
       "      <th>1</th>\n",
       "      <td>Lincoln</td>\n",
       "      <td>LS V8</td>\n",
       "      <td>2002</td>\n",
       "      <td>143250</td>\n",
       "      <td>Gasoline</td>\n",
       "      <td>252.0HP 3.9L 8 Cylinder Engine Gasoline Fuel</td>\n",
       "      <td>A/T</td>\n",
       "      <td>Silver</td>\n",
       "      <td>Beige</td>\n",
       "      <td>At least 1 accident or damage reported</td>\n",
       "      <td>Yes</td>\n",
       "      <td>4999</td>\n",
       "    </tr>\n",
       "    <tr>\n",
       "      <th>2</th>\n",
       "      <td>Chevrolet</td>\n",
       "      <td>Silverado 2500 LT</td>\n",
       "      <td>2002</td>\n",
       "      <td>136731</td>\n",
       "      <td>E85 Flex Fuel</td>\n",
       "      <td>320.0HP 5.3L 8 Cylinder Engine Flex Fuel Capab...</td>\n",
       "      <td>A/T</td>\n",
       "      <td>Blue</td>\n",
       "      <td>Gray</td>\n",
       "      <td>None reported</td>\n",
       "      <td>Yes</td>\n",
       "      <td>13900</td>\n",
       "    </tr>\n",
       "    <tr>\n",
       "      <th>3</th>\n",
       "      <td>Genesis</td>\n",
       "      <td>G90 5.0 Ultimate</td>\n",
       "      <td>2017</td>\n",
       "      <td>19500</td>\n",
       "      <td>Gasoline</td>\n",
       "      <td>420.0HP 5.0L 8 Cylinder Engine Gasoline Fuel</td>\n",
       "      <td>Transmission w/Dual Shift Mode</td>\n",
       "      <td>Black</td>\n",
       "      <td>Black</td>\n",
       "      <td>None reported</td>\n",
       "      <td>Yes</td>\n",
       "      <td>45000</td>\n",
       "    </tr>\n",
       "    <tr>\n",
       "      <th>4</th>\n",
       "      <td>Mercedes-Benz</td>\n",
       "      <td>Metris Base</td>\n",
       "      <td>2021</td>\n",
       "      <td>7388</td>\n",
       "      <td>Gasoline</td>\n",
       "      <td>208.0HP 2.0L 4 Cylinder Engine Gasoline Fuel</td>\n",
       "      <td>7-Speed A/T</td>\n",
       "      <td>Black</td>\n",
       "      <td>Beige</td>\n",
       "      <td>None reported</td>\n",
       "      <td>Yes</td>\n",
       "      <td>97500</td>\n",
       "    </tr>\n",
       "  </tbody>\n",
       "</table>\n",
       "</div>"
      ],
      "text/plain": [
       "            brand              model  model_year  milage      fuel_type  \\\n",
       "id                                                                        \n",
       "0            MINI      Cooper S Base        2007  213000       Gasoline   \n",
       "1         Lincoln              LS V8        2002  143250       Gasoline   \n",
       "2       Chevrolet  Silverado 2500 LT        2002  136731  E85 Flex Fuel   \n",
       "3         Genesis   G90 5.0 Ultimate        2017   19500       Gasoline   \n",
       "4   Mercedes-Benz        Metris Base        2021    7388       Gasoline   \n",
       "\n",
       "                                               engine  \\\n",
       "id                                                      \n",
       "0        172.0HP 1.6L 4 Cylinder Engine Gasoline Fuel   \n",
       "1        252.0HP 3.9L 8 Cylinder Engine Gasoline Fuel   \n",
       "2   320.0HP 5.3L 8 Cylinder Engine Flex Fuel Capab...   \n",
       "3        420.0HP 5.0L 8 Cylinder Engine Gasoline Fuel   \n",
       "4        208.0HP 2.0L 4 Cylinder Engine Gasoline Fuel   \n",
       "\n",
       "                      transmission ext_col int_col  \\\n",
       "id                                                   \n",
       "0                              A/T  Yellow    Gray   \n",
       "1                              A/T  Silver   Beige   \n",
       "2                              A/T    Blue    Gray   \n",
       "3   Transmission w/Dual Shift Mode   Black   Black   \n",
       "4                      7-Speed A/T   Black   Beige   \n",
       "\n",
       "                                  accident clean_title  price  \n",
       "id                                                             \n",
       "0                            None reported         Yes   4200  \n",
       "1   At least 1 accident or damage reported         Yes   4999  \n",
       "2                            None reported         Yes  13900  \n",
       "3                            None reported         Yes  45000  \n",
       "4                            None reported         Yes  97500  "
      ]
     },
     "execution_count": 2,
     "metadata": {},
     "output_type": "execute_result"
    }
   ],
   "source": [
    "train = pd.read_csv(\"/kaggle/input/playground-series-s4e9/train.csv\", index_col='id')\n",
    "test = pd.read_csv(\"/kaggle/input/playground-series-s4e9/test.csv\")\n",
    "\n",
    "train.head()"
   ]
  },
  {
   "cell_type": "code",
   "execution_count": 3,
   "id": "6c8a36f2",
   "metadata": {
    "execution": {
     "iopub.execute_input": "2024-09-11T15:35:01.904618Z",
     "iopub.status.busy": "2024-09-11T15:35:01.904213Z",
     "iopub.status.idle": "2024-09-11T15:35:01.910926Z",
     "shell.execute_reply": "2024-09-11T15:35:01.909948Z"
    },
    "papermill": {
     "duration": 0.025699,
     "end_time": "2024-09-11T15:35:01.912957",
     "exception": false,
     "start_time": "2024-09-11T15:35:01.887258",
     "status": "completed"
    },
    "tags": []
   },
   "outputs": [
    {
     "data": {
      "text/plain": [
       "((188533, 12), (125690, 12))"
      ]
     },
     "execution_count": 3,
     "metadata": {},
     "output_type": "execute_result"
    }
   ],
   "source": [
    "train.shape, test.shape"
   ]
  },
  {
   "cell_type": "code",
   "execution_count": 4,
   "id": "7ff1b6e5",
   "metadata": {
    "execution": {
     "iopub.execute_input": "2024-09-11T15:35:01.944930Z",
     "iopub.status.busy": "2024-09-11T15:35:01.944561Z",
     "iopub.status.idle": "2024-09-11T15:35:02.254899Z",
     "shell.execute_reply": "2024-09-11T15:35:02.253619Z"
    },
    "papermill": {
     "duration": 0.329457,
     "end_time": "2024-09-11T15:35:02.257239",
     "exception": false,
     "start_time": "2024-09-11T15:35:01.927782",
     "status": "completed"
    },
    "tags": []
   },
   "outputs": [
    {
     "name": "stdout",
     "output_type": "stream",
     "text": [
      "<class 'pandas.core.frame.DataFrame'>\n",
      "Index: 188533 entries, 0 to 188532\n",
      "Data columns (total 12 columns):\n",
      " #   Column        Non-Null Count   Dtype \n",
      "---  ------        --------------   ----- \n",
      " 0   brand         188533 non-null  object\n",
      " 1   model         188533 non-null  object\n",
      " 2   model_year    188533 non-null  int64 \n",
      " 3   milage        188533 non-null  int64 \n",
      " 4   fuel_type     183450 non-null  object\n",
      " 5   engine        188533 non-null  object\n",
      " 6   transmission  188533 non-null  object\n",
      " 7   ext_col       188533 non-null  object\n",
      " 8   int_col       188533 non-null  object\n",
      " 9   accident      186081 non-null  object\n",
      " 10  clean_title   167114 non-null  object\n",
      " 11  price         188533 non-null  int64 \n",
      "dtypes: int64(3), object(9)\n",
      "memory usage: 18.7+ MB\n",
      "<class 'pandas.core.frame.DataFrame'>\n",
      "RangeIndex: 125690 entries, 0 to 125689\n",
      "Data columns (total 12 columns):\n",
      " #   Column        Non-Null Count   Dtype \n",
      "---  ------        --------------   ----- \n",
      " 0   id            125690 non-null  int64 \n",
      " 1   brand         125690 non-null  object\n",
      " 2   model         125690 non-null  object\n",
      " 3   model_year    125690 non-null  int64 \n",
      " 4   milage        125690 non-null  int64 \n",
      " 5   fuel_type     122307 non-null  object\n",
      " 6   engine        125690 non-null  object\n",
      " 7   transmission  125690 non-null  object\n",
      " 8   ext_col       125690 non-null  object\n",
      " 9   int_col       125690 non-null  object\n",
      " 10  accident      124058 non-null  object\n",
      " 11  clean_title   111451 non-null  object\n",
      "dtypes: int64(3), object(9)\n",
      "memory usage: 11.5+ MB\n"
     ]
    },
    {
     "data": {
      "text/plain": [
       "(None, None)"
      ]
     },
     "execution_count": 4,
     "metadata": {},
     "output_type": "execute_result"
    }
   ],
   "source": [
    "train.info(), test.info()"
   ]
  },
  {
   "cell_type": "code",
   "execution_count": 5,
   "id": "c97b4f57",
   "metadata": {
    "execution": {
     "iopub.execute_input": "2024-09-11T15:35:02.289950Z",
     "iopub.status.busy": "2024-09-11T15:35:02.289614Z",
     "iopub.status.idle": "2024-09-11T15:35:02.559727Z",
     "shell.execute_reply": "2024-09-11T15:35:02.558580Z"
    },
    "papermill": {
     "duration": 0.289447,
     "end_time": "2024-09-11T15:35:02.562267",
     "exception": false,
     "start_time": "2024-09-11T15:35:02.272820",
     "status": "completed"
    },
    "tags": []
   },
   "outputs": [
    {
     "data": {
      "text/plain": [
       "(brand               0\n",
       " model               0\n",
       " model_year          0\n",
       " milage              0\n",
       " fuel_type        5083\n",
       " engine              0\n",
       " transmission        0\n",
       " ext_col             0\n",
       " int_col             0\n",
       " accident         2452\n",
       " clean_title     21419\n",
       " price               0\n",
       " dtype: int64,\n",
       " id                  0\n",
       " brand               0\n",
       " model               0\n",
       " model_year          0\n",
       " milage              0\n",
       " fuel_type        3383\n",
       " engine              0\n",
       " transmission        0\n",
       " ext_col             0\n",
       " int_col             0\n",
       " accident         1632\n",
       " clean_title     14239\n",
       " dtype: int64)"
      ]
     },
     "execution_count": 5,
     "metadata": {},
     "output_type": "execute_result"
    }
   ],
   "source": [
    "train.isnull().sum(), test.isnull().sum()"
   ]
  },
  {
   "cell_type": "code",
   "execution_count": 6,
   "id": "4f601236",
   "metadata": {
    "execution": {
     "iopub.execute_input": "2024-09-11T15:35:02.599461Z",
     "iopub.status.busy": "2024-09-11T15:35:02.599048Z",
     "iopub.status.idle": "2024-09-11T15:35:02.977857Z",
     "shell.execute_reply": "2024-09-11T15:35:02.976742Z"
    },
    "papermill": {
     "duration": 0.399895,
     "end_time": "2024-09-11T15:35:02.980179",
     "exception": false,
     "start_time": "2024-09-11T15:35:02.580284",
     "status": "completed"
    },
    "tags": []
   },
   "outputs": [
    {
     "data": {
      "text/plain": [
       "(0, 0)"
      ]
     },
     "execution_count": 6,
     "metadata": {},
     "output_type": "execute_result"
    }
   ],
   "source": [
    "train.duplicated().sum(), test.duplicated().sum()"
   ]
  },
  {
   "cell_type": "code",
   "execution_count": 7,
   "id": "f0886ff6",
   "metadata": {
    "execution": {
     "iopub.execute_input": "2024-09-11T15:35:03.017214Z",
     "iopub.status.busy": "2024-09-11T15:35:03.016809Z",
     "iopub.status.idle": "2024-09-11T15:35:03.058147Z",
     "shell.execute_reply": "2024-09-11T15:35:03.057166Z"
    },
    "papermill": {
     "duration": 0.062313,
     "end_time": "2024-09-11T15:35:03.060451",
     "exception": false,
     "start_time": "2024-09-11T15:35:02.998138",
     "status": "completed"
    },
    "tags": []
   },
   "outputs": [
    {
     "data": {
      "text/html": [
       "<div>\n",
       "<style scoped>\n",
       "    .dataframe tbody tr th:only-of-type {\n",
       "        vertical-align: middle;\n",
       "    }\n",
       "\n",
       "    .dataframe tbody tr th {\n",
       "        vertical-align: top;\n",
       "    }\n",
       "\n",
       "    .dataframe thead th {\n",
       "        text-align: right;\n",
       "    }\n",
       "</style>\n",
       "<table border=\"1\" class=\"dataframe\">\n",
       "  <thead>\n",
       "    <tr style=\"text-align: right;\">\n",
       "      <th></th>\n",
       "      <th>model_year</th>\n",
       "      <th>milage</th>\n",
       "      <th>price</th>\n",
       "    </tr>\n",
       "  </thead>\n",
       "  <tbody>\n",
       "    <tr>\n",
       "      <th>count</th>\n",
       "      <td>188533.000000</td>\n",
       "      <td>188533.000000</td>\n",
       "      <td>1.885330e+05</td>\n",
       "    </tr>\n",
       "    <tr>\n",
       "      <th>mean</th>\n",
       "      <td>2015.829998</td>\n",
       "      <td>65705.295174</td>\n",
       "      <td>4.387802e+04</td>\n",
       "    </tr>\n",
       "    <tr>\n",
       "      <th>std</th>\n",
       "      <td>5.660967</td>\n",
       "      <td>49798.158076</td>\n",
       "      <td>7.881952e+04</td>\n",
       "    </tr>\n",
       "    <tr>\n",
       "      <th>min</th>\n",
       "      <td>1974.000000</td>\n",
       "      <td>100.000000</td>\n",
       "      <td>2.000000e+03</td>\n",
       "    </tr>\n",
       "    <tr>\n",
       "      <th>25%</th>\n",
       "      <td>2013.000000</td>\n",
       "      <td>24115.000000</td>\n",
       "      <td>1.700000e+04</td>\n",
       "    </tr>\n",
       "    <tr>\n",
       "      <th>50%</th>\n",
       "      <td>2017.000000</td>\n",
       "      <td>57785.000000</td>\n",
       "      <td>3.082500e+04</td>\n",
       "    </tr>\n",
       "    <tr>\n",
       "      <th>75%</th>\n",
       "      <td>2020.000000</td>\n",
       "      <td>95400.000000</td>\n",
       "      <td>4.990000e+04</td>\n",
       "    </tr>\n",
       "    <tr>\n",
       "      <th>max</th>\n",
       "      <td>2024.000000</td>\n",
       "      <td>405000.000000</td>\n",
       "      <td>2.954083e+06</td>\n",
       "    </tr>\n",
       "  </tbody>\n",
       "</table>\n",
       "</div>"
      ],
      "text/plain": [
       "          model_year         milage         price\n",
       "count  188533.000000  188533.000000  1.885330e+05\n",
       "mean     2015.829998   65705.295174  4.387802e+04\n",
       "std         5.660967   49798.158076  7.881952e+04\n",
       "min      1974.000000     100.000000  2.000000e+03\n",
       "25%      2013.000000   24115.000000  1.700000e+04\n",
       "50%      2017.000000   57785.000000  3.082500e+04\n",
       "75%      2020.000000   95400.000000  4.990000e+04\n",
       "max      2024.000000  405000.000000  2.954083e+06"
      ]
     },
     "execution_count": 7,
     "metadata": {},
     "output_type": "execute_result"
    }
   ],
   "source": [
    "train.describe()"
   ]
  },
  {
   "cell_type": "code",
   "execution_count": 8,
   "id": "646e2d26",
   "metadata": {
    "execution": {
     "iopub.execute_input": "2024-09-11T15:35:03.094670Z",
     "iopub.status.busy": "2024-09-11T15:35:03.094244Z",
     "iopub.status.idle": "2024-09-11T15:35:03.100711Z",
     "shell.execute_reply": "2024-09-11T15:35:03.099781Z"
    },
    "papermill": {
     "duration": 0.025449,
     "end_time": "2024-09-11T15:35:03.102726",
     "exception": false,
     "start_time": "2024-09-11T15:35:03.077277",
     "status": "completed"
    },
    "tags": []
   },
   "outputs": [],
   "source": [
    "def count_unique_features(df, column_name):\n",
    "    \"\"\"\n",
    "    Count and display unique values in a specific column of a DataFrame.\n",
    "\n",
    "    Args:\n",
    "    df (pd.DataFrame): The DataFrame containing the column.\n",
    "    column_name (str): The column name for which to count unique values.\n",
    "\n",
    "    Returns:\n",
    "    pd.Series: A series with unique values and their counts.\n",
    "    \"\"\"\n",
    "    if column_name in df.columns:\n",
    "        unique_counts = df[column_name].value_counts()\n",
    "        print(f\"Unique values in column '{column_name}':\\n\")\n",
    "        print(unique_counts)\n",
    "        return unique_counts\n",
    "    else:\n",
    "        print(f\"Column '{column_name}' not found in the DataFrame.\")\n",
    "        return None\n"
   ]
  },
  {
   "cell_type": "code",
   "execution_count": 9,
   "id": "16c929da",
   "metadata": {
    "execution": {
     "iopub.execute_input": "2024-09-11T15:35:03.134813Z",
     "iopub.status.busy": "2024-09-11T15:35:03.134400Z",
     "iopub.status.idle": "2024-09-11T15:35:03.170523Z",
     "shell.execute_reply": "2024-09-11T15:35:03.169517Z"
    },
    "papermill": {
     "duration": 0.054636,
     "end_time": "2024-09-11T15:35:03.173122",
     "exception": false,
     "start_time": "2024-09-11T15:35:03.118486",
     "status": "completed"
    },
    "tags": []
   },
   "outputs": [
    {
     "name": "stdout",
     "output_type": "stream",
     "text": [
      "Unique values in column 'brand':\n",
      "\n",
      "brand\n",
      "Ford             23088\n",
      "Mercedes-Benz    19172\n",
      "BMW              17028\n",
      "Chevrolet        16335\n",
      "Audi             10887\n",
      "Porsche          10612\n",
      "Land              9525\n",
      "Toyota            8850\n",
      "Lexus             8643\n",
      "Jeep              6474\n",
      "Cadillac          4674\n",
      "RAM               4249\n",
      "Nissan            3930\n",
      "Tesla             3738\n",
      "INFINITI          3276\n",
      "GMC               3215\n",
      "Dodge             3133\n",
      "Mazda             2719\n",
      "Kia               2497\n",
      "Lincoln           2423\n",
      "Subaru            2381\n",
      "Acura             2282\n",
      "Honda             2101\n",
      "Hyundai           2045\n",
      "Volkswagen        1765\n",
      "Jaguar            1319\n",
      "Bentley           1155\n",
      "MINI              1064\n",
      "Genesis            969\n",
      "Buick              940\n",
      "Maserati           939\n",
      "Lamborghini        809\n",
      "Chrysler           727\n",
      "Volvo              723\n",
      "Alfa               682\n",
      "Rivian             590\n",
      "Rolls-Royce        561\n",
      "Mitsubishi         551\n",
      "Pontiac            538\n",
      "Hummer             520\n",
      "Ferrari            359\n",
      "McLaren            243\n",
      "Aston              238\n",
      "Saturn             148\n",
      "Scion              120\n",
      "Lucid               69\n",
      "Mercury             57\n",
      "Lotus               52\n",
      "FIAT                44\n",
      "Saab                22\n",
      "Karma               17\n",
      "Suzuki               8\n",
      "Plymouth             7\n",
      "Polestar             7\n",
      "Bugatti              7\n",
      "smart                3\n",
      "Maybach              3\n",
      "Name: count, dtype: int64\n"
     ]
    }
   ],
   "source": [
    "a = count_unique_features(train, 'brand')"
   ]
  },
  {
   "cell_type": "code",
   "execution_count": 10,
   "id": "eb9bdaef",
   "metadata": {
    "execution": {
     "iopub.execute_input": "2024-09-11T15:35:03.208372Z",
     "iopub.status.busy": "2024-09-11T15:35:03.208006Z",
     "iopub.status.idle": "2024-09-11T15:35:03.234976Z",
     "shell.execute_reply": "2024-09-11T15:35:03.234136Z"
    },
    "papermill": {
     "duration": 0.046663,
     "end_time": "2024-09-11T15:35:03.237330",
     "exception": false,
     "start_time": "2024-09-11T15:35:03.190667",
     "status": "completed"
    },
    "tags": []
   },
   "outputs": [
    {
     "data": {
      "text/plain": [
       "(array(['Yes', nan], dtype=object), array(['Yes', nan], dtype=object))"
      ]
     },
     "execution_count": 10,
     "metadata": {},
     "output_type": "execute_result"
    }
   ],
   "source": [
    "train['clean_title'].unique(), test['clean_title'].unique()"
   ]
  },
  {
   "cell_type": "code",
   "execution_count": 11,
   "id": "26dac485",
   "metadata": {
    "execution": {
     "iopub.execute_input": "2024-09-11T15:35:03.270496Z",
     "iopub.status.busy": "2024-09-11T15:35:03.269698Z",
     "iopub.status.idle": "2024-09-11T15:35:03.296347Z",
     "shell.execute_reply": "2024-09-11T15:35:03.295434Z"
    },
    "papermill": {
     "duration": 0.045574,
     "end_time": "2024-09-11T15:35:03.298555",
     "exception": false,
     "start_time": "2024-09-11T15:35:03.252981",
     "status": "completed"
    },
    "tags": []
   },
   "outputs": [
    {
     "data": {
      "text/plain": [
       "(array(['None reported', 'At least 1 accident or damage reported', nan],\n",
       "       dtype=object),\n",
       " array(['None reported', 'At least 1 accident or damage reported', nan],\n",
       "       dtype=object))"
      ]
     },
     "execution_count": 11,
     "metadata": {},
     "output_type": "execute_result"
    }
   ],
   "source": [
    "train['accident'].unique(), test['accident'].unique()"
   ]
  },
  {
   "cell_type": "code",
   "execution_count": 12,
   "id": "c3b0c25b",
   "metadata": {
    "execution": {
     "iopub.execute_input": "2024-09-11T15:35:03.332500Z",
     "iopub.status.busy": "2024-09-11T15:35:03.332136Z",
     "iopub.status.idle": "2024-09-11T15:35:03.359140Z",
     "shell.execute_reply": "2024-09-11T15:35:03.358278Z"
    },
    "papermill": {
     "duration": 0.04644,
     "end_time": "2024-09-11T15:35:03.361032",
     "exception": false,
     "start_time": "2024-09-11T15:35:03.314592",
     "status": "completed"
    },
    "tags": []
   },
   "outputs": [
    {
     "data": {
      "text/plain": [
       "(array(['Gasoline', 'E85 Flex Fuel', nan, 'Hybrid', 'Diesel',\n",
       "        'Plug-In Hybrid', '–', 'not supported'], dtype=object),\n",
       " array(['Gasoline', 'Hybrid', 'Diesel', 'E85 Flex Fuel', nan,\n",
       "        'Plug-In Hybrid', '–', 'not supported'], dtype=object))"
      ]
     },
     "execution_count": 12,
     "metadata": {},
     "output_type": "execute_result"
    }
   ],
   "source": [
    "train['fuel_type'].unique(), test['fuel_type'].unique()"
   ]
  },
  {
   "cell_type": "markdown",
   "id": "c888a905",
   "metadata": {
    "papermill": {
     "duration": 0.016713,
     "end_time": "2024-09-11T15:35:03.393321",
     "exception": false,
     "start_time": "2024-09-11T15:35:03.376608",
     "status": "completed"
    },
    "tags": []
   },
   "source": [
    "# Data Preprocessing"
   ]
  },
  {
   "cell_type": "code",
   "execution_count": 13,
   "id": "4df504ec",
   "metadata": {
    "execution": {
     "iopub.execute_input": "2024-09-11T15:35:03.432158Z",
     "iopub.status.busy": "2024-09-11T15:35:03.431750Z",
     "iopub.status.idle": "2024-09-11T15:35:03.488992Z",
     "shell.execute_reply": "2024-09-11T15:35:03.487761Z"
    },
    "papermill": {
     "duration": 0.079384,
     "end_time": "2024-09-11T15:35:03.491346",
     "exception": false,
     "start_time": "2024-09-11T15:35:03.411962",
     "status": "completed"
    },
    "tags": []
   },
   "outputs": [],
   "source": [
    "train['fuel_type'] = train['fuel_type'].replace('–',np.nan)\n",
    "test['fuel_type'] = test['fuel_type'].replace('–',np.nan)"
   ]
  },
  {
   "cell_type": "code",
   "execution_count": 14,
   "id": "b152924f",
   "metadata": {
    "execution": {
     "iopub.execute_input": "2024-09-11T15:35:03.524911Z",
     "iopub.status.busy": "2024-09-11T15:35:03.524555Z",
     "iopub.status.idle": "2024-09-11T15:35:03.551516Z",
     "shell.execute_reply": "2024-09-11T15:35:03.550548Z"
    },
    "papermill": {
     "duration": 0.045817,
     "end_time": "2024-09-11T15:35:03.553645",
     "exception": false,
     "start_time": "2024-09-11T15:35:03.507828",
     "status": "completed"
    },
    "tags": []
   },
   "outputs": [
    {
     "data": {
      "text/plain": [
       "(array(['Gasoline', 'E85 Flex Fuel', nan, 'Hybrid', 'Diesel',\n",
       "        'Plug-In Hybrid', 'not supported'], dtype=object),\n",
       " array(['Gasoline', 'Hybrid', 'Diesel', 'E85 Flex Fuel', nan,\n",
       "        'Plug-In Hybrid', 'not supported'], dtype=object))"
      ]
     },
     "execution_count": 14,
     "metadata": {},
     "output_type": "execute_result"
    }
   ],
   "source": [
    "train['fuel_type'].unique(), test['fuel_type'].unique()"
   ]
  },
  {
   "cell_type": "code",
   "execution_count": 15,
   "id": "aaf8eb3c",
   "metadata": {
    "execution": {
     "iopub.execute_input": "2024-09-11T15:35:03.587953Z",
     "iopub.status.busy": "2024-09-11T15:35:03.587564Z",
     "iopub.status.idle": "2024-09-11T15:35:03.637892Z",
     "shell.execute_reply": "2024-09-11T15:35:03.636900Z"
    },
    "papermill": {
     "duration": 0.070157,
     "end_time": "2024-09-11T15:35:03.639989",
     "exception": false,
     "start_time": "2024-09-11T15:35:03.569832",
     "status": "completed"
    },
    "tags": []
   },
   "outputs": [
    {
     "data": {
      "text/plain": [
       "2438"
      ]
     },
     "execution_count": 15,
     "metadata": {},
     "output_type": "execute_result"
    }
   ],
   "source": [
    "len(train[train['accident'].isna() & train['clean_title'].isna()])"
   ]
  },
  {
   "cell_type": "code",
   "execution_count": 16,
   "id": "5b5c2d3f",
   "metadata": {
    "execution": {
     "iopub.execute_input": "2024-09-11T15:35:03.674403Z",
     "iopub.status.busy": "2024-09-11T15:35:03.673803Z",
     "iopub.status.idle": "2024-09-11T15:35:03.716777Z",
     "shell.execute_reply": "2024-09-11T15:35:03.715651Z"
    },
    "papermill": {
     "duration": 0.062707,
     "end_time": "2024-09-11T15:35:03.719038",
     "exception": false,
     "start_time": "2024-09-11T15:35:03.656331",
     "status": "completed"
    },
    "tags": []
   },
   "outputs": [
    {
     "data": {
      "text/plain": [
       "86"
      ]
     },
     "execution_count": 16,
     "metadata": {},
     "output_type": "execute_result"
    }
   ],
   "source": [
    "len(train[train['accident'].isna() & train['fuel_type'].isna()])"
   ]
  },
  {
   "cell_type": "code",
   "execution_count": 17,
   "id": "c28ce3a6",
   "metadata": {
    "execution": {
     "iopub.execute_input": "2024-09-11T15:35:03.753921Z",
     "iopub.status.busy": "2024-09-11T15:35:03.753547Z",
     "iopub.status.idle": "2024-09-11T15:35:03.758963Z",
     "shell.execute_reply": "2024-09-11T15:35:03.758089Z"
    },
    "papermill": {
     "duration": 0.025204,
     "end_time": "2024-09-11T15:35:03.761020",
     "exception": false,
     "start_time": "2024-09-11T15:35:03.735816",
     "status": "completed"
    },
    "tags": []
   },
   "outputs": [],
   "source": [
    "def replace_nan_with_mode(df, column_name):\n",
    "    \"\"\"\n",
    "    Replace NaN values in a specific column of the dataframe with the mode.\n",
    "\n",
    "    Parameters:\n",
    "    df (pandas.DataFrame): The dataframe containing the data.\n",
    "    column_name (str): The name of the column where NaN values should be replaced.\n",
    "\n",
    "    Returns:\n",
    "    None: The function modifies the dataframe in place.\n",
    "    \"\"\"\n",
    "    mode_value = df[column_name].mode().max()\n",
    "    df[column_name] = df[column_name].fillna(mode_value)"
   ]
  },
  {
   "cell_type": "code",
   "execution_count": 18,
   "id": "d6022c23",
   "metadata": {
    "execution": {
     "iopub.execute_input": "2024-09-11T15:35:03.795827Z",
     "iopub.status.busy": "2024-09-11T15:35:03.795234Z",
     "iopub.status.idle": "2024-09-11T15:35:03.966327Z",
     "shell.execute_reply": "2024-09-11T15:35:03.965212Z"
    },
    "papermill": {
     "duration": 0.19146,
     "end_time": "2024-09-11T15:35:03.969114",
     "exception": false,
     "start_time": "2024-09-11T15:35:03.777654",
     "status": "completed"
    },
    "tags": []
   },
   "outputs": [],
   "source": [
    "replace_nan_with_mode(train,'clean_title')\n",
    "replace_nan_with_mode(train,'accident')\n",
    "replace_nan_with_mode(train,'fuel_type')"
   ]
  },
  {
   "cell_type": "code",
   "execution_count": 19,
   "id": "ce5220f6",
   "metadata": {
    "execution": {
     "iopub.execute_input": "2024-09-11T15:35:04.006664Z",
     "iopub.status.busy": "2024-09-11T15:35:04.006263Z",
     "iopub.status.idle": "2024-09-11T15:35:04.119365Z",
     "shell.execute_reply": "2024-09-11T15:35:04.118253Z"
    },
    "papermill": {
     "duration": 0.134792,
     "end_time": "2024-09-11T15:35:04.122060",
     "exception": false,
     "start_time": "2024-09-11T15:35:03.987268",
     "status": "completed"
    },
    "tags": []
   },
   "outputs": [],
   "source": [
    "replace_nan_with_mode(test,'clean_title')\n",
    "replace_nan_with_mode(test,'accident')\n",
    "replace_nan_with_mode(test,'fuel_type')"
   ]
  },
  {
   "cell_type": "code",
   "execution_count": 20,
   "id": "69aa83a0",
   "metadata": {
    "execution": {
     "iopub.execute_input": "2024-09-11T15:35:04.160352Z",
     "iopub.status.busy": "2024-09-11T15:35:04.159694Z",
     "iopub.status.idle": "2024-09-11T15:35:05.976942Z",
     "shell.execute_reply": "2024-09-11T15:35:05.976008Z"
    },
    "papermill": {
     "duration": 1.839048,
     "end_time": "2024-09-11T15:35:05.979352",
     "exception": false,
     "start_time": "2024-09-11T15:35:04.140304",
     "status": "completed"
    },
    "tags": []
   },
   "outputs": [],
   "source": [
    "import matplotlib.pyplot as plt\n",
    "import seaborn as sns\n",
    "\n",
    "def detect_and_visualize_outliers(df, cat_threshold=2):\n",
    "    \"\"\"\n",
    "    Function to detect outliers in both numerical and categorical columns, visualize them,\n",
    "    and return the outliers for each column.\n",
    "    \n",
    "    Parameters:\n",
    "    df (DataFrame): The input dataframe containing both numerical and categorical columns.\n",
    "    cat_threshold (int): The threshold for detecting rare categories (outliers) in categorical columns.\n",
    "                         Categories with a frequency less than this threshold will be considered outliers.\n",
    "    \n",
    "    Returns:\n",
    "    dict: A dictionary containing the outliers for each column.\n",
    "    \"\"\"\n",
    "    \n",
    "    outliers_dict = {}\n",
    "\n",
    "    # Detect outliers in numerical columns using IQR method\n",
    "    def detect_numerical_outliers(column):\n",
    "        Q1 = column.quantile(0.25)\n",
    "        Q3 = column.quantile(0.75)\n",
    "        IQR = Q3 - Q1\n",
    "        lower_bound = Q1 - 1.5 * IQR\n",
    "        upper_bound = Q3 + 1.5 * IQR\n",
    "        return column[(column < lower_bound) | (column > upper_bound)]\n",
    "    \n",
    "    # Detect outliers in categorical columns based on frequency threshold\n",
    "    def detect_categorical_outliers(column):\n",
    "        freq = column.value_counts()\n",
    "        return column[column.isin(freq[freq < cat_threshold].index)]\n",
    "    \n",
    "    numerical_columns = df.select_dtypes(include=['float64', 'int64']).columns\n",
    "    categorical_columns = df.select_dtypes(include=['object', 'category']).columns\n",
    "    \n",
    "    # Plot outliers for numerical columns using boxplot\n",
    "    for col in numerical_columns:\n",
    "        outliers = detect_numerical_outliers(df[col])\n",
    "        outliers_dict[col] = outliers  # Store the detected outliers\n",
    "\n",
    "        # Visualization\n",
    "        plt.figure(figsize=(10, 5))\n",
    "        sns.boxplot(x=df[col])\n",
    "        plt.title(f'Numerical Column: {col} - Outliers')\n",
    "        plt.show()\n",
    "        \n",
    "        if not outliers.empty:\n",
    "            print(f'Outliers detected in {col}:')\n",
    "            print(outliers)\n",
    "        else:\n",
    "            print(f'No outliers detected in {col}')\n",
    "    \n",
    "    # Plot outliers for categorical columns using barplot\n",
    "    for col in categorical_columns:\n",
    "        outliers = detect_categorical_outliers(df[col])\n",
    "        outliers_dict[col] = outliers  # Store the detected outliers\n",
    "\n",
    "        if not outliers.empty:\n",
    "            plt.figure(figsize=(10, 5))\n",
    "            outlier_counts = outliers.value_counts()\n",
    "            sns.barplot(x=outlier_counts.index, y=outlier_counts.values)\n",
    "            plt.title(f'Categorical Column: {col} - Outliers')\n",
    "            plt.ylabel('Frequency')\n",
    "            plt.show()\n",
    "            \n",
    "            print(f'Outliers detected in {col}:')\n",
    "            print(outliers.unique())\n",
    "        else:\n",
    "            print(f'No outliers detected in {col}')\n",
    "    \n",
    "    return outliers_dict"
   ]
  },
  {
   "cell_type": "code",
   "execution_count": 21,
   "id": "11bdf612",
   "metadata": {
    "execution": {
     "iopub.execute_input": "2024-09-11T15:35:06.018018Z",
     "iopub.status.busy": "2024-09-11T15:35:06.017220Z",
     "iopub.status.idle": "2024-09-11T15:35:07.713498Z",
     "shell.execute_reply": "2024-09-11T15:35:07.712434Z"
    },
    "papermill": {
     "duration": 1.717693,
     "end_time": "2024-09-11T15:35:07.715602",
     "exception": false,
     "start_time": "2024-09-11T15:35:05.997909",
     "status": "completed"
    },
    "tags": []
   },
   "outputs": [
    {
     "data": {
      "image/png": "[encoded data removed]",
      "text/plain": [
       "<Figure size 1000x500 with 1 Axes>"
      ]
     },
     "metadata": {},
     "output_type": "display_data"
    },
    {
     "name": "stdout",
     "output_type": "stream",
     "text": [
      "Outliers detected in model_year:\n",
      "id\n",
      "1         2002\n",
      "2         2002\n",
      "59        2001\n",
      "81        2000\n",
      "88        2002\n",
      "          ... \n",
      "188464    2002\n",
      "188475    2000\n",
      "188477    2000\n",
      "188479    2002\n",
      "188527    1999\n",
      "Name: model_year, Length: 5132, dtype: int64\n"
     ]
    },
    {
     "data": {
      "image/png": "[encoded data removed]",
      "text/plain": [
       "<Figure size 1000x500 with 1 Axes>"
      ]
     },
     "metadata": {},
     "output_type": "display_data"
    },
    {
     "name": "stdout",
     "output_type": "stream",
     "text": [
      "Outliers detected in milage:\n",
      "id\n",
      "0         213000\n",
      "10        212500\n",
      "28        244200\n",
      "195       269885\n",
      "424       215000\n",
      "           ...  \n",
      "187708    245000\n",
      "188047    249083\n",
      "188092    205000\n",
      "188160    220000\n",
      "188523    239000\n",
      "Name: milage, Length: 1766, dtype: int64\n"
     ]
    },
    {
     "data": {
      "image/png": "[encoded data removed]",
      "text/plain": [
       "<Figure size 1000x500 with 1 Axes>"
      ]
     },
     "metadata": {},
     "output_type": "display_data"
    },
    {
     "name": "stdout",
     "output_type": "stream",
     "text": [
      "Outliers detected in price:\n",
      "id\n",
      "31        104900\n",
      "36        165000\n",
      "43        244896\n",
      "44        145000\n",
      "65        193063\n",
      "           ...  \n",
      "188463    199991\n",
      "188469    149900\n",
      "188476    267950\n",
      "188485    115000\n",
      "188501    129000\n",
      "Name: price, Length: 10880, dtype: int64\n",
      "No outliers detected in brand\n"
     ]
    },
    {
     "data": {
      "image/png": "[encoded data removed]",
      "text/plain": [
       "<Figure size 1000x500 with 1 Axes>"
      ]
     },
     "metadata": {},
     "output_type": "display_data"
    },
    {
     "name": "stdout",
     "output_type": "stream",
     "text": [
      "Outliers detected in model:\n",
      "['X5 xDrive40e' 'X5 3.0i' 'XLR Base' 'Integra w/A-Spec Tech Package']\n",
      "No outliers detected in fuel_type\n"
     ]
    },
    {
     "data": {
      "image/png": "[encoded data removed]",
      "text/plain": [
       "<Figure size 1000x500 with 1 Axes>"
      ]
     },
     "metadata": {},
     "output_type": "display_data"
    },
    {
     "name": "stdout",
     "output_type": "stream",
     "text": [
      "Outliers detected in engine:\n",
      "['70.0HP 1.0L 3 Cylinder Engine Gasoline Fuel'\n",
      " '443.0HP 4.4L 8 Cylinder Engine Gasoline Fuel'\n",
      " '111.0HP Electric Motor Electric Fuel System'\n",
      " '151.0HP 1.5L 4 Cylinder Engine Gas/Electric Hybrid'\n",
      " '184.0HP 2.4L 4 Cylinder Engine Flex Fuel Capability'\n",
      " '78.0HP 1.2L 3 Cylinder Engine Gasoline Fuel'\n",
      " '139.0HP 1.6L 4 Cylinder Engine Plug-In Electric/Gas'\n",
      " '313.0HP 2.0L 4 Cylinder Engine Plug-In Electric/Gas']\n",
      "No outliers detected in transmission\n",
      "No outliers detected in ext_col\n",
      "No outliers detected in int_col\n",
      "No outliers detected in accident\n",
      "No outliers detected in clean_title\n"
     ]
    }
   ],
   "source": [
    "outliers = detect_and_visualize_outliers(train)"
   ]
  },
  {
   "cell_type": "code",
   "execution_count": 22,
   "id": "0bb89930",
   "metadata": {
    "execution": {
     "iopub.execute_input": "2024-09-11T15:35:07.757098Z",
     "iopub.status.busy": "2024-09-11T15:35:07.756720Z",
     "iopub.status.idle": "2024-09-11T15:35:07.764010Z",
     "shell.execute_reply": "2024-09-11T15:35:07.763187Z"
    },
    "papermill": {
     "duration": 0.031056,
     "end_time": "2024-09-11T15:35:07.765800",
     "exception": false,
     "start_time": "2024-09-11T15:35:07.734744",
     "status": "completed"
    },
    "tags": []
   },
   "outputs": [],
   "source": [
    "def filter_outliers(df, column_name, threshold, condition='below'):\n",
    "    \"\"\"\n",
    "    Function to filter out rows in a DataFrame based on a specified condition and threshold.\n",
    "\n",
    "    Parameters:\n",
    "    df (DataFrame): The input DataFrame containing the data.\n",
    "    column_name (str): The name of the column to check for outliers.\n",
    "    threshold (int or float): The threshold for filtering.\n",
    "    condition (str): The condition for filtering ('below' or 'above'). Default is 'below'.\n",
    "\n",
    "    Returns:\n",
    "    DataFrame: A new DataFrame with rows removed based on the specified condition.\n",
    "    int: The number of outliers removed.\n",
    "    \"\"\"\n",
    "    if column_name in df.columns:\n",
    "        if condition == 'below':\n",
    "            outliers = df[df[column_name] < threshold]\n",
    "            df_filtered = df[df[column_name] >= threshold]\n",
    "        elif condition == 'above':\n",
    "            outliers = df[df[column_name] > threshold]\n",
    "            df_filtered = df[df[column_name] <= threshold]\n",
    "        else:\n",
    "            raise ValueError(\"Condition must be 'below' or 'above'\")\n",
    "        \n",
    "        count = len(outliers)\n",
    "        return df_filtered, count\n",
    "    else:\n",
    "        print(f\"'{column_name}' column not found in DataFrame\")\n",
    "        return df, 0"
   ]
  },
  {
   "cell_type": "code",
   "execution_count": 23,
   "id": "b6d58786",
   "metadata": {
    "execution": {
     "iopub.execute_input": "2024-09-11T15:35:07.805807Z",
     "iopub.status.busy": "2024-09-11T15:35:07.805167Z",
     "iopub.status.idle": "2024-09-11T15:35:07.838281Z",
     "shell.execute_reply": "2024-09-11T15:35:07.837264Z"
    },
    "papermill": {
     "duration": 0.055593,
     "end_time": "2024-09-11T15:35:07.840440",
     "exception": false,
     "start_time": "2024-09-11T15:35:07.784847",
     "status": "completed"
    },
    "tags": []
   },
   "outputs": [
    {
     "data": {
      "text/plain": [
       "12"
      ]
     },
     "execution_count": 23,
     "metadata": {},
     "output_type": "execute_result"
    }
   ],
   "source": [
    "df_filtered_below, removed_count_below = filter_outliers(train, 'model_year', 1990, condition='below')\n",
    "removed_count_below"
   ]
  },
  {
   "cell_type": "code",
   "execution_count": 24,
   "id": "ff519b6d",
   "metadata": {
    "execution": {
     "iopub.execute_input": "2024-09-11T15:35:07.884249Z",
     "iopub.status.busy": "2024-09-11T15:35:07.883877Z",
     "iopub.status.idle": "2024-09-11T15:35:07.932548Z",
     "shell.execute_reply": "2024-09-11T15:35:07.931517Z"
    },
    "papermill": {
     "duration": 0.073057,
     "end_time": "2024-09-11T15:35:07.934861",
     "exception": false,
     "start_time": "2024-09-11T15:35:07.861804",
     "status": "completed"
    },
    "tags": []
   },
   "outputs": [
    {
     "data": {
      "text/plain": [
       "85"
      ]
     },
     "execution_count": 24,
     "metadata": {},
     "output_type": "execute_result"
    }
   ],
   "source": [
    "df_filtered_below, removed_count_below = filter_outliers(train, 'milage',275000 , condition='above')\n",
    "removed_count_below"
   ]
  },
  {
   "cell_type": "code",
   "execution_count": 25,
   "id": "335bd85a",
   "metadata": {
    "execution": {
     "iopub.execute_input": "2024-09-11T15:35:07.978717Z",
     "iopub.status.busy": "2024-09-11T15:35:07.978297Z",
     "iopub.status.idle": "2024-09-11T15:35:08.013445Z",
     "shell.execute_reply": "2024-09-11T15:35:08.012501Z"
    },
    "papermill": {
     "duration": 0.05886,
     "end_time": "2024-09-11T15:35:08.015539",
     "exception": false,
     "start_time": "2024-09-11T15:35:07.956679",
     "status": "completed"
    },
    "tags": []
   },
   "outputs": [
    {
     "data": {
      "text/plain": [
       "352"
      ]
     },
     "execution_count": 25,
     "metadata": {},
     "output_type": "execute_result"
    }
   ],
   "source": [
    "df_filtered_below, removed_count_below = filter_outliers(train, 'price',500000 , condition='above')\n",
    "removed_count_below"
   ]
  },
  {
   "cell_type": "code",
   "execution_count": 26,
   "id": "9080b0a6",
   "metadata": {
    "execution": {
     "iopub.execute_input": "2024-09-11T15:35:08.055081Z",
     "iopub.status.busy": "2024-09-11T15:35:08.054465Z",
     "iopub.status.idle": "2024-09-11T15:35:08.103347Z",
     "shell.execute_reply": "2024-09-11T15:35:08.102586Z"
    },
    "papermill": {
     "duration": 0.070798,
     "end_time": "2024-09-11T15:35:08.105316",
     "exception": false,
     "start_time": "2024-09-11T15:35:08.034518",
     "status": "completed"
    },
    "tags": []
   },
   "outputs": [],
   "source": [
    "# Extract outlier values\n",
    "# milage_outliers = outliers['milage']\n",
    "# price_outliers = outliers['price']\n",
    "# model_year_outliers = outliers['model_year']\n",
    "model_outliers = outliers['model']\n",
    "engine_outliers = outliers['engine']\n",
    "\n",
    "# Filter the DataFrame to remove rows with outliers\n",
    "filtered_df = df_filtered_below[\n",
    "    ~df_filtered_below['model'].isin(model_outliers) &\n",
    "    ~df_filtered_below['engine'].isin(engine_outliers) \n",
    "#     &\n",
    "#     ~df_filtered_below['milage'].isin(milage_outliers) &\n",
    "#     ~df_filtered_below['price'].isin(price_outliers) &\n",
    "#     ~df_filtered_below['model_year'].isin(model_year_outliers)\n",
    "]"
   ]
  },
  {
   "cell_type": "code",
   "execution_count": 27,
   "id": "3d26c0b4",
   "metadata": {
    "execution": {
     "iopub.execute_input": "2024-09-11T15:35:08.145481Z",
     "iopub.status.busy": "2024-09-11T15:35:08.145147Z",
     "iopub.status.idle": "2024-09-11T15:35:08.151451Z",
     "shell.execute_reply": "2024-09-11T15:35:08.150555Z"
    },
    "papermill": {
     "duration": 0.028763,
     "end_time": "2024-09-11T15:35:08.153422",
     "exception": false,
     "start_time": "2024-09-11T15:35:08.124659",
     "status": "completed"
    },
    "tags": []
   },
   "outputs": [],
   "source": [
    "train = filtered_df"
   ]
  },
  {
   "cell_type": "code",
   "execution_count": 28,
   "id": "4ae16d7f",
   "metadata": {
    "execution": {
     "iopub.execute_input": "2024-09-11T15:35:08.193913Z",
     "iopub.status.busy": "2024-09-11T15:35:08.193612Z",
     "iopub.status.idle": "2024-09-11T15:35:08.199267Z",
     "shell.execute_reply": "2024-09-11T15:35:08.198212Z"
    },
    "papermill": {
     "duration": 0.028113,
     "end_time": "2024-09-11T15:35:08.201375",
     "exception": false,
     "start_time": "2024-09-11T15:35:08.173262",
     "status": "completed"
    },
    "tags": []
   },
   "outputs": [],
   "source": [
    "# one hot encording only\n",
    "\n",
    "# import pandas as pd\n",
    "# from sklearn.preprocessing import OneHotEncoder\n",
    "# import category_encoders as ce\n",
    "# import numpy as np\n",
    "\n",
    "# def encode_categorical_features(X_train, X_test):\n",
    "#     \"\"\"\n",
    "#     Encodes categorical features using One-Hot Encoding (for low cardinality features) \n",
    "    \n",
    "#     Args:\n",
    "#     - X_train (pd.DataFrame): Training data.\n",
    "#     - X_test (pd.DataFrame): Test data.\n",
    "    \n",
    "#     Returns:\n",
    "#     - X_train_encoded (pd.DataFrame): Encoded training data.\n",
    "#     - X_test_encoded (pd.DataFrame): Encoded test data.\n",
    "#     \"\"\"\n",
    "#     # Initialize encoders\n",
    "#     ohe = OneHotEncoder(sparse_output=False, dtype=np.float32, handle_unknown='ignore')  # 32-bit precision\n",
    "\n",
    "#     # Find categorical columns\n",
    "#     categorical_cols = X_train.select_dtypes(include=['object', 'category']).columns\n",
    "    \n",
    "#     X_train_encoded = X_train.copy()\n",
    "#     X_test_encoded = X_test.copy()\n",
    "\n",
    "#     for col in categorical_cols:\n",
    "        \n",
    "#         X_train_ohe = ohe.fit_transform(X_train[[col]])\n",
    "#         X_test_ohe = ohe.transform(X_test[[col]])\n",
    "\n",
    "#         # Convert to DataFrame and rename columns\n",
    "#         ohe_cols = [f\"{col}_{cat}\" for cat in ohe.categories_[0]]\n",
    "#         X_train_ohe = pd.DataFrame(X_train_ohe, columns=ohe_cols, index=X_train.index)\n",
    "#         X_test_ohe = pd.DataFrame(X_test_ohe, columns=ohe_cols, index=X_test.index)\n",
    "\n",
    "#         # Concatenate back to the original dataset\n",
    "#         X_train_encoded = pd.concat([X_train_encoded, X_train_ohe], axis=1)\n",
    "#         X_test_encoded = pd.concat([X_test_encoded, X_test_ohe], axis=1)\n",
    "\n",
    "#         # Drop the original column\n",
    "#         X_train_encoded.drop(columns=[col], inplace=True)\n",
    "#         X_test_encoded.drop(columns=[col], inplace=True)\n",
    "\n",
    "       \n",
    "\n",
    "#     return X_train_encoded, X_test_encoded\n",
    "\n",
    "\n"
   ]
  },
  {
   "cell_type": "code",
   "execution_count": 29,
   "id": "256755c2",
   "metadata": {
    "execution": {
     "iopub.execute_input": "2024-09-11T15:35:08.240499Z",
     "iopub.status.busy": "2024-09-11T15:35:08.240162Z",
     "iopub.status.idle": "2024-09-11T15:35:08.860568Z",
     "shell.execute_reply": "2024-09-11T15:35:08.859657Z"
    },
    "papermill": {
     "duration": 0.642783,
     "end_time": "2024-09-11T15:35:08.863289",
     "exception": false,
     "start_time": "2024-09-11T15:35:08.220506",
     "status": "completed"
    },
    "tags": []
   },
   "outputs": [],
   "source": [
    "# one hot and target encording\n",
    "\n",
    "\n",
    "\n",
    "import pandas as pd\n",
    "from sklearn.preprocessing import OneHotEncoder\n",
    "import category_encoders as ce\n",
    "import numpy as np\n",
    "\n",
    "def encode_categorical_features(X_train, X_test, y_train, cardinality_threshold=10):\n",
    "    \"\"\"\n",
    "    Encodes categorical features using One-Hot Encoding (for low cardinality features) \n",
    "    and Target Encoding (for high cardinality features).\n",
    "    \n",
    "    Args:\n",
    "    - X_train (pd.DataFrame): Training data.\n",
    "    - X_test (pd.DataFrame): Test data.\n",
    "    - y_train (pd.Series): Target values for training data.\n",
    "    - cardinality_threshold (int): Threshold for unique values to decide between One-Hot and Target Encoding.\n",
    "    \n",
    "    Returns:\n",
    "    - X_train_encoded (pd.DataFrame): Encoded training data.\n",
    "    - X_test_encoded (pd.DataFrame): Encoded test data.\n",
    "    \"\"\"\n",
    "    # Initialize encoders\n",
    "    ohe = OneHotEncoder(sparse_output=False, dtype=np.float32, handle_unknown='ignore')  # 32-bit precision\n",
    "    target_encoder = ce.TargetEncoder(cols=None)  # Target encoding for high-cardinality features\n",
    "\n",
    "    # Find categorical columns\n",
    "    categorical_cols = X_train.select_dtypes(include=['object', 'category']).columns\n",
    "    \n",
    "    X_train_encoded = X_train.copy()\n",
    "    X_test_encoded = X_test.copy()\n",
    "\n",
    "    for col in categorical_cols:\n",
    "        num_unique_values = X_train[col].nunique()\n",
    "\n",
    "        if num_unique_values <= cardinality_threshold:\n",
    "            # Apply One-Hot Encoding if the number of unique values is low\n",
    "            X_train_ohe = ohe.fit_transform(X_train[[col]])\n",
    "            X_test_ohe = ohe.transform(X_test[[col]])\n",
    "\n",
    "            # Convert to DataFrame and rename columns\n",
    "            ohe_cols = [f\"{col}_{cat}\" for cat in ohe.categories_[0]]\n",
    "            X_train_ohe = pd.DataFrame(X_train_ohe, columns=ohe_cols, index=X_train.index)\n",
    "            X_test_ohe = pd.DataFrame(X_test_ohe, columns=ohe_cols, index=X_test.index)\n",
    "\n",
    "            # Concatenate back to the original dataset\n",
    "            X_train_encoded = pd.concat([X_train_encoded, X_train_ohe], axis=1)\n",
    "            X_test_encoded = pd.concat([X_test_encoded, X_test_ohe], axis=1)\n",
    "\n",
    "            # Drop the original column\n",
    "            X_train_encoded.drop(columns=[col], inplace=True)\n",
    "            X_test_encoded.drop(columns=[col], inplace=True)\n",
    "\n",
    "        else:\n",
    "            # Apply Target Encoding if the number of unique values is high\n",
    "            target_encoder.cols = [col]\n",
    "            X_train_encoded[col] = target_encoder.fit_transform(X_train[col], y_train)\n",
    "            X_test_encoded[col] = target_encoder.transform(X_test[col])\n",
    "\n",
    "    return X_train_encoded, X_test_encoded\n",
    "\n",
    "\n"
   ]
  },
  {
   "cell_type": "code",
   "execution_count": 30,
   "id": "582a08d7",
   "metadata": {
    "execution": {
     "iopub.execute_input": "2024-09-11T15:35:08.910120Z",
     "iopub.status.busy": "2024-09-11T15:35:08.909546Z",
     "iopub.status.idle": "2024-09-11T15:35:11.361354Z",
     "shell.execute_reply": "2024-09-11T15:35:11.360532Z"
    },
    "papermill": {
     "duration": 2.478183,
     "end_time": "2024-09-11T15:35:11.363832",
     "exception": false,
     "start_time": "2024-09-11T15:35:08.885649",
     "status": "completed"
    },
    "tags": []
   },
   "outputs": [],
   "source": [
    "# Example usage\n",
    "train, test = encode_categorical_features(train, test, train['price'], cardinality_threshold=15)"
   ]
  },
  {
   "cell_type": "code",
   "execution_count": 31,
   "id": "a10af931",
   "metadata": {
    "execution": {
     "iopub.execute_input": "2024-09-11T15:35:11.405766Z",
     "iopub.status.busy": "2024-09-11T15:35:11.404878Z",
     "iopub.status.idle": "2024-09-11T15:35:11.409198Z",
     "shell.execute_reply": "2024-09-11T15:35:11.408265Z"
    },
    "papermill": {
     "duration": 0.028016,
     "end_time": "2024-09-11T15:35:11.411335",
     "exception": false,
     "start_time": "2024-09-11T15:35:11.383319",
     "status": "completed"
    },
    "tags": []
   },
   "outputs": [],
   "source": [
    "# Example usage\n",
    "# train, test = encode_categorical_features(train, test)"
   ]
  },
  {
   "cell_type": "code",
   "execution_count": 32,
   "id": "c625a9c9",
   "metadata": {
    "execution": {
     "iopub.execute_input": "2024-09-11T15:35:11.451511Z",
     "iopub.status.busy": "2024-09-11T15:35:11.450682Z",
     "iopub.status.idle": "2024-09-11T15:35:11.464537Z",
     "shell.execute_reply": "2024-09-11T15:35:11.463400Z"
    },
    "papermill": {
     "duration": 0.036469,
     "end_time": "2024-09-11T15:35:11.466800",
     "exception": false,
     "start_time": "2024-09-11T15:35:11.430331",
     "status": "completed"
    },
    "tags": []
   },
   "outputs": [
    {
     "data": {
      "text/plain": [
       "brand                                              0\n",
       "model                                              0\n",
       "model_year                                         0\n",
       "milage                                             0\n",
       "engine                                             0\n",
       "transmission                                       0\n",
       "ext_col                                            0\n",
       "int_col                                            0\n",
       "price                                              0\n",
       "fuel_type_Diesel                                   0\n",
       "fuel_type_E85 Flex Fuel                            0\n",
       "fuel_type_Gasoline                                 0\n",
       "fuel_type_Hybrid                                   0\n",
       "fuel_type_Plug-In Hybrid                           0\n",
       "fuel_type_not supported                            0\n",
       "accident_At least 1 accident or damage reported    0\n",
       "accident_None reported                             0\n",
       "clean_title_Yes                                    0\n",
       "dtype: int64"
      ]
     },
     "execution_count": 32,
     "metadata": {},
     "output_type": "execute_result"
    }
   ],
   "source": [
    "train.isnull().sum()"
   ]
  },
  {
   "cell_type": "code",
   "execution_count": 33,
   "id": "e27889cb",
   "metadata": {
    "execution": {
     "iopub.execute_input": "2024-09-11T15:35:11.514554Z",
     "iopub.status.busy": "2024-09-11T15:35:11.513697Z",
     "iopub.status.idle": "2024-09-11T15:35:11.526034Z",
     "shell.execute_reply": "2024-09-11T15:35:11.524993Z"
    },
    "papermill": {
     "duration": 0.039314,
     "end_time": "2024-09-11T15:35:11.528679",
     "exception": false,
     "start_time": "2024-09-11T15:35:11.489365",
     "status": "completed"
    },
    "tags": []
   },
   "outputs": [
    {
     "data": {
      "text/plain": [
       "id                                                 0\n",
       "brand                                              0\n",
       "model                                              0\n",
       "model_year                                         0\n",
       "milage                                             0\n",
       "engine                                             0\n",
       "transmission                                       0\n",
       "ext_col                                            0\n",
       "int_col                                            0\n",
       "fuel_type_Diesel                                   0\n",
       "fuel_type_E85 Flex Fuel                            0\n",
       "fuel_type_Gasoline                                 0\n",
       "fuel_type_Hybrid                                   0\n",
       "fuel_type_Plug-In Hybrid                           0\n",
       "fuel_type_not supported                            0\n",
       "accident_At least 1 accident or damage reported    0\n",
       "accident_None reported                             0\n",
       "clean_title_Yes                                    0\n",
       "dtype: int64"
      ]
     },
     "execution_count": 33,
     "metadata": {},
     "output_type": "execute_result"
    }
   ],
   "source": [
    "test.isnull().sum()"
   ]
  },
  {
   "cell_type": "markdown",
   "id": "4253cb84",
   "metadata": {
    "papermill": {
     "duration": 0.019929,
     "end_time": "2024-09-11T15:35:11.610404",
     "exception": false,
     "start_time": "2024-09-11T15:35:11.590475",
     "status": "completed"
    },
    "tags": []
   },
   "source": [
    "# Model building"
   ]
  },
  {
   "cell_type": "code",
   "execution_count": 34,
   "id": "177d31e3",
   "metadata": {
    "execution": {
     "iopub.execute_input": "2024-09-11T15:35:11.653075Z",
     "iopub.status.busy": "2024-09-11T15:35:11.652392Z",
     "iopub.status.idle": "2024-09-11T15:35:11.759644Z",
     "shell.execute_reply": "2024-09-11T15:35:11.758763Z"
    },
    "papermill": {
     "duration": 0.131227,
     "end_time": "2024-09-11T15:35:11.762090",
     "exception": false,
     "start_time": "2024-09-11T15:35:11.630863",
     "status": "completed"
    },
    "tags": []
   },
   "outputs": [],
   "source": [
    "from sklearn.model_selection import train_test_split\n",
    "from sklearn.metrics import accuracy_score\n",
    "from sklearn.metrics import mean_squared_error"
   ]
  },
  {
   "cell_type": "code",
   "execution_count": 35,
   "id": "a715688d",
   "metadata": {
    "execution": {
     "iopub.execute_input": "2024-09-11T15:35:11.805345Z",
     "iopub.status.busy": "2024-09-11T15:35:11.804510Z",
     "iopub.status.idle": "2024-09-11T15:35:11.813916Z",
     "shell.execute_reply": "2024-09-11T15:35:11.813169Z"
    },
    "papermill": {
     "duration": 0.033309,
     "end_time": "2024-09-11T15:35:11.816003",
     "exception": false,
     "start_time": "2024-09-11T15:35:11.782694",
     "status": "completed"
    },
    "tags": []
   },
   "outputs": [],
   "source": [
    "X = train.drop('price',axis=1)\n",
    "y = train['price']"
   ]
  },
  {
   "cell_type": "code",
   "execution_count": 36,
   "id": "021aabf1",
   "metadata": {
    "execution": {
     "iopub.execute_input": "2024-09-11T15:35:11.858812Z",
     "iopub.status.busy": "2024-09-11T15:35:11.858441Z",
     "iopub.status.idle": "2024-09-11T15:35:11.893127Z",
     "shell.execute_reply": "2024-09-11T15:35:11.891839Z"
    },
    "papermill": {
     "duration": 0.059265,
     "end_time": "2024-09-11T15:35:11.895881",
     "exception": false,
     "start_time": "2024-09-11T15:35:11.836616",
     "status": "completed"
    },
    "tags": []
   },
   "outputs": [],
   "source": [
    "# Split the data into training and testing sets\n",
    "X_train, X_test, y_train, y_test = train_test_split(X, y, test_size=0.2, random_state=42)"
   ]
  },
  {
   "cell_type": "code",
   "execution_count": 37,
   "id": "ae675edb",
   "metadata": {
    "execution": {
     "iopub.execute_input": "2024-09-11T15:35:11.944637Z",
     "iopub.status.busy": "2024-09-11T15:35:11.943624Z",
     "iopub.status.idle": "2024-09-11T15:35:11.948352Z",
     "shell.execute_reply": "2024-09-11T15:35:11.947322Z"
    },
    "papermill": {
     "duration": 0.032023,
     "end_time": "2024-09-11T15:35:11.950680",
     "exception": false,
     "start_time": "2024-09-11T15:35:11.918657",
     "status": "completed"
    },
    "tags": []
   },
   "outputs": [],
   "source": [
    "# import xgboost as xgb\n",
    "\n",
    "# model = xgb.XGBRegressor(eval_metric='rmse')\n",
    "# model.fit(X_train,y_train)"
   ]
  },
  {
   "cell_type": "code",
   "execution_count": 38,
   "id": "b8cbfa6e",
   "metadata": {
    "execution": {
     "iopub.execute_input": "2024-09-11T15:35:11.994829Z",
     "iopub.status.busy": "2024-09-11T15:35:11.993994Z",
     "iopub.status.idle": "2024-09-11T15:35:11.998400Z",
     "shell.execute_reply": "2024-09-11T15:35:11.997378Z"
    },
    "papermill": {
     "duration": 0.028926,
     "end_time": "2024-09-11T15:35:12.000499",
     "exception": false,
     "start_time": "2024-09-11T15:35:11.971573",
     "status": "completed"
    },
    "tags": []
   },
   "outputs": [],
   "source": [
    "# import lightgbm as lgb\n",
    "\n",
    "# # Define the LightGBM model with RMSE as the evaluation metric\n",
    "# lgb_model = lgb.LGBMRegressor(objective='regression', metric='rmse')\n",
    "\n",
    "# # Fit the model\n",
    "# lgb_model.fit(X_train, y_train)\n"
   ]
  },
  {
   "cell_type": "code",
   "execution_count": 39,
   "id": "7f6b0d83",
   "metadata": {
    "execution": {
     "iopub.execute_input": "2024-09-11T15:35:12.045729Z",
     "iopub.status.busy": "2024-09-11T15:35:12.044824Z",
     "iopub.status.idle": "2024-09-11T15:35:12.049525Z",
     "shell.execute_reply": "2024-09-11T15:35:12.048531Z"
    },
    "papermill": {
     "duration": 0.030854,
     "end_time": "2024-09-11T15:35:12.051741",
     "exception": false,
     "start_time": "2024-09-11T15:35:12.020887",
     "status": "completed"
    },
    "tags": []
   },
   "outputs": [],
   "source": [
    "# from catboost import CatBoostRegressor\n",
    "\n",
    "# # Define the CatBoost model with RMSE as the loss function\n",
    "# cat_model = CatBoostRegressor(loss_function='RMSE', verbose=0)\n",
    "\n",
    "# # Fit the model\n",
    "# cat_model.fit(X_train, y_train)\n"
   ]
  },
  {
   "cell_type": "code",
   "execution_count": 40,
   "id": "c5324ee6",
   "metadata": {
    "execution": {
     "iopub.execute_input": "2024-09-11T15:35:12.096748Z",
     "iopub.status.busy": "2024-09-11T15:35:12.095980Z",
     "iopub.status.idle": "2024-09-11T15:35:12.101069Z",
     "shell.execute_reply": "2024-09-11T15:35:12.100153Z"
    },
    "papermill": {
     "duration": 0.029109,
     "end_time": "2024-09-11T15:35:12.103144",
     "exception": false,
     "start_time": "2024-09-11T15:35:12.074035",
     "status": "completed"
    },
    "tags": []
   },
   "outputs": [],
   "source": [
    "# from sklearn.metrics import mean_squared_error\n",
    "# import numpy as np\n",
    "\n",
    "# # XGBoost Predictions\n",
    "# xgb_pred = model.predict(X_test)\n",
    "# xgb_rmse = np.sqrt(mean_squared_error(y_test, xgb_pred))\n",
    "\n",
    "# # LightGBM Predictions\n",
    "# lgb_pred = lgb_model.predict(X_test)\n",
    "# lgb_rmse = np.sqrt(mean_squared_error(y_test, lgb_pred))\n",
    "\n",
    "# # CatBoost Predictions\n",
    "# cat_pred = cat_model.predict(X_test)\n",
    "# cat_rmse = np.sqrt(mean_squared_error(y_test, cat_pred))\n",
    "\n",
    "# # Show RMSE for all models\n",
    "# print(f\"XGBoost RMSE: {xgb_rmse:.2f}\")\n",
    "# print(f\"LightGBM RMSE: {lgb_rmse:.2f}\")\n",
    "# print(f\"CatBoost RMSE: {cat_rmse:.2f}\")\n",
    "\n"
   ]
  },
  {
   "cell_type": "code",
   "execution_count": 41,
   "id": "f86d475d",
   "metadata": {
    "execution": {
     "iopub.execute_input": "2024-09-11T15:35:12.147328Z",
     "iopub.status.busy": "2024-09-11T15:35:12.146912Z",
     "iopub.status.idle": "2024-09-11T15:35:12.152016Z",
     "shell.execute_reply": "2024-09-11T15:35:12.151172Z"
    },
    "papermill": {
     "duration": 0.030473,
     "end_time": "2024-09-11T15:35:12.154187",
     "exception": false,
     "start_time": "2024-09-11T15:35:12.123714",
     "status": "completed"
    },
    "tags": []
   },
   "outputs": [],
   "source": [
    "# XGBoost RMSE: 70376.06\n",
    "# LightGBM RMSE: 67812.76\n",
    "# CatBoost RMSE: 68476.48"
   ]
  },
  {
   "cell_type": "code",
   "execution_count": 42,
   "id": "344dceb0",
   "metadata": {
    "execution": {
     "iopub.execute_input": "2024-09-11T15:35:12.199132Z",
     "iopub.status.busy": "2024-09-11T15:35:12.198762Z",
     "iopub.status.idle": "2024-09-11T15:35:12.205086Z",
     "shell.execute_reply": "2024-09-11T15:35:12.203929Z"
    },
    "papermill": {
     "duration": 0.031677,
     "end_time": "2024-09-11T15:35:12.207457",
     "exception": false,
     "start_time": "2024-09-11T15:35:12.175780",
     "status": "completed"
    },
    "tags": []
   },
   "outputs": [],
   "source": [
    "# import optuna\n",
    "# import lightgbm as lgb\n",
    "# from sklearn.model_selection import cross_val_score\n",
    "\n",
    "# # Define the objective function for Optuna\n",
    "# def objective(trial):\n",
    "#     # Suggest hyperparameters\n",
    "#     params = {\n",
    "#         'objective': 'regression',\n",
    "#         'metric': 'rmse',\n",
    "#         'learning_rate': trial.suggest_float('learning_rate', 0.01, 0.3),\n",
    "#         'num_leaves': trial.suggest_int('num_leaves', 20, 150),\n",
    "#         'max_depth': trial.suggest_int('max_depth', 3, 12),\n",
    "#         'min_child_samples': trial.suggest_int('min_child_samples', 5, 100),\n",
    "#         'feature_fraction': trial.suggest_float('feature_fraction', 0.5, 1.0),\n",
    "#         'bagging_fraction': trial.suggest_float('bagging_fraction', 0.5, 1.0),\n",
    "#         'bagging_freq': trial.suggest_int('bagging_freq', 1, 7),\n",
    "#         'lambda_l1': trial.suggest_float('lambda_l1', 0.0, 10.0),\n",
    "#         'lambda_l2': trial.suggest_float('lambda_l2', 0.0, 10.0),\n",
    "#         'device_type': 'gpu'\n",
    "#     }\n",
    "\n",
    "#     # Initialize the LightGBM model with suggested parameters\n",
    "#     lgb_model = lgb.LGBMRegressor(**params)\n",
    "\n",
    "#     # Perform 5-fold cross-validation (you can adjust the number of folds)\n",
    "#     cv_scores = cross_val_score(lgb_model, X_train, y_train, cv=5, scoring='neg_mean_squared_error')\n",
    "    \n",
    "#     # Compute the average RMSE across all folds\n",
    "#     rmse = np.sqrt(-cv_scores.mean())\n",
    "    \n",
    "#     return rmse\n",
    "\n",
    "# # Run the Optuna optimization\n",
    "# study = optuna.create_study(direction='minimize')\n",
    "# study.optimize(objective, n_trials=100)\n",
    "\n",
    "# # Print the best hyperparameters\n",
    "# print(f\"Best hyperparameters: {study.best_params}\")\n",
    "# print(f\"Best RMSE: {study.best_value:.2f}\")\n"
   ]
  },
  {
   "cell_type": "code",
   "execution_count": 43,
   "id": "8f9762ab",
   "metadata": {
    "execution": {
     "iopub.execute_input": "2024-09-11T15:35:12.250582Z",
     "iopub.status.busy": "2024-09-11T15:35:12.249825Z",
     "iopub.status.idle": "2024-09-11T15:35:12.253861Z",
     "shell.execute_reply": "2024-09-11T15:35:12.253036Z"
    },
    "papermill": {
     "duration": 0.026902,
     "end_time": "2024-09-11T15:35:12.255846",
     "exception": false,
     "start_time": "2024-09-11T15:35:12.228944",
     "status": "completed"
    },
    "tags": []
   },
   "outputs": [],
   "source": [
    "# best_lgb_params = study.best_params"
   ]
  },
  {
   "cell_type": "code",
   "execution_count": 44,
   "id": "041f6be5",
   "metadata": {
    "execution": {
     "iopub.execute_input": "2024-09-11T15:35:12.296271Z",
     "iopub.status.busy": "2024-09-11T15:35:12.295666Z",
     "iopub.status.idle": "2024-09-11T15:35:12.301343Z",
     "shell.execute_reply": "2024-09-11T15:35:12.300409Z"
    },
    "papermill": {
     "duration": 0.028125,
     "end_time": "2024-09-11T15:35:12.303297",
     "exception": false,
     "start_time": "2024-09-11T15:35:12.275172",
     "status": "completed"
    },
    "tags": []
   },
   "outputs": [],
   "source": [
    "best_lgb_params = {'learning_rate': 0.03591987267524337, 'num_leaves': 111, 'max_depth': 8, 'min_child_samples': 55, 'feature_fraction': 0.5157255582786685, 'bagging_fraction': 0.9701739475315172, 'bagging_freq': 1, 'lambda_l1': 4.211012328172116, 'lambda_l2': 9.202439137047019, 'device_type': 'gpu', 'objective': 'regression',\n",
    "        'metric': 'rmse'}"
   ]
  },
  {
   "cell_type": "code",
   "execution_count": 45,
   "id": "385d9b53",
   "metadata": {
    "execution": {
     "iopub.execute_input": "2024-09-11T15:35:12.344913Z",
     "iopub.status.busy": "2024-09-11T15:35:12.343731Z",
     "iopub.status.idle": "2024-09-11T15:35:24.116163Z",
     "shell.execute_reply": "2024-09-11T15:35:24.115108Z"
    },
    "papermill": {
     "duration": 11.796177,
     "end_time": "2024-09-11T15:35:24.118812",
     "exception": false,
     "start_time": "2024-09-11T15:35:12.322635",
     "status": "completed"
    },
    "tags": []
   },
   "outputs": [
    {
     "name": "stdout",
     "output_type": "stream",
     "text": [
      "[LightGBM] [Warning] feature_fraction is set=0.5157255582786685, colsample_bytree=1.0 will be ignored. Current value: feature_fraction=0.5157255582786685\n",
      "[LightGBM] [Warning] lambda_l2 is set=9.202439137047019, reg_lambda=0.0 will be ignored. Current value: lambda_l2=9.202439137047019\n",
      "[LightGBM] [Warning] lambda_l1 is set=4.211012328172116, reg_alpha=0.0 will be ignored. Current value: lambda_l1=4.211012328172116\n",
      "[LightGBM] [Warning] bagging_fraction is set=0.9701739475315172, subsample=1.0 will be ignored. Current value: bagging_fraction=0.9701739475315172\n",
      "[LightGBM] [Warning] bagging_freq is set=1, subsample_freq=0 will be ignored. Current value: bagging_freq=1\n",
      "[LightGBM] [Warning] Found whitespace in feature_names, replace with underlines\n",
      "[LightGBM] [Warning] feature_fraction is set=0.5157255582786685, colsample_bytree=1.0 will be ignored. Current value: feature_fraction=0.5157255582786685\n",
      "[LightGBM] [Warning] lambda_l2 is set=9.202439137047019, reg_lambda=0.0 will be ignored. Current value: lambda_l2=9.202439137047019\n",
      "[LightGBM] [Warning] lambda_l1 is set=4.211012328172116, reg_alpha=0.0 will be ignored. Current value: lambda_l1=4.211012328172116\n",
      "[LightGBM] [Warning] bagging_fraction is set=0.9701739475315172, subsample=1.0 will be ignored. Current value: bagging_fraction=0.9701739475315172\n",
      "[LightGBM] [Warning] bagging_freq is set=1, subsample_freq=0 will be ignored. Current value: bagging_freq=1\n",
      "[LightGBM] [Info] This is the GPU trainer!!\n",
      "[LightGBM] [Info] Total Bins 1253\n",
      "[LightGBM] [Info] Number of data points in the train set: 150535, number of used features: 15\n",
      "[LightGBM] [Info] Using GPU Device: Tesla T4, Vendor: NVIDIA Corporation\n",
      "[LightGBM] [Info] Compiling OpenCL Kernel with 256 bins...\n"
     ]
    },
    {
     "name": "stderr",
     "output_type": "stream",
     "text": [
      "1 warning generated.\n",
      "1 warning generated.\n",
      "1 warning generated.\n",
      "1 warning generated.\n",
      "1 warning generated.\n",
      "1 warning generated.\n",
      "1 warning generated.\n",
      "1 warning generated.\n",
      "1 warning generated.\n",
      "1 warning generated.\n",
      "1 warning generated.\n",
      "1 warning generated.\n",
      "1 warning generated.\n",
      "1 warning generated.\n",
      "1 warning generated.\n",
      "1 warning generated.\n",
      "1 warning generated.\n",
      "1 warning generated.\n",
      "1 warning generated.\n",
      "1 warning generated.\n",
      "1 warning generated.\n",
      "1 warning generated.\n",
      "1 warning generated.\n",
      "1 warning generated.\n",
      "1 warning generated.\n",
      "1 warning generated.\n",
      "1 warning generated.\n",
      "1 warning generated.\n",
      "1 warning generated.\n",
      "1 warning generated.\n",
      "1 warning generated.\n",
      "1 warning generated.\n",
      "1 warning generated.\n"
     ]
    },
    {
     "name": "stdout",
     "output_type": "stream",
     "text": [
      "[LightGBM] [Info] GPU programs have been built\n",
      "[LightGBM] [Info] Size of histogram bin entry: 8\n",
      "[LightGBM] [Info] 8 dense feature groups (1.15 MB) transferred to GPU in 0.002331 secs. 1 sparse feature groups\n",
      "[LightGBM] [Info] Start training from score 41574.564194\n",
      "[LightGBM] [Warning] No further splits with positive gain, best gain: -inf\n",
      "[LightGBM] [Warning] No further splits with positive gain, best gain: -inf\n",
      "[LightGBM] [Warning] No further splits with positive gain, best gain: -inf\n",
      "[LightGBM] [Warning] No further splits with positive gain, best gain: -inf\n",
      "[LightGBM] [Warning] No further splits with positive gain, best gain: -inf\n",
      "[LightGBM] [Warning] No further splits with positive gain, best gain: -inf\n",
      "[LightGBM] [Warning] No further splits with positive gain, best gain: -inf\n",
      "[LightGBM] [Warning] No further splits with positive gain, best gain: -inf\n",
      "[LightGBM] [Warning] No further splits with positive gain, best gain: -inf\n",
      "[LightGBM] [Warning] No further splits with positive gain, best gain: -inf\n",
      "[LightGBM] [Warning] No further splits with positive gain, best gain: -inf\n",
      "[LightGBM] [Warning] No further splits with positive gain, best gain: -inf\n",
      "[LightGBM] [Warning] No further splits with positive gain, best gain: -inf\n",
      "[LightGBM] [Warning] No further splits with positive gain, best gain: -inf\n",
      "[LightGBM] [Warning] No further splits with positive gain, best gain: -inf\n",
      "[LightGBM] [Warning] No further splits with positive gain, best gain: -inf\n",
      "[LightGBM] [Warning] No further splits with positive gain, best gain: -inf\n"
     ]
    },
    {
     "data": {
      "text/html": [
       "<style>#sk-container-id-1 {color: black;background-color: white;}#sk-container-id-1 pre{padding: 0;}#sk-container-id-1 div.sk-toggleable {background-color: white;}#sk-container-id-1 label.sk-toggleable__label {cursor: pointer;display: block;width: 100%;margin-bottom: 0;padding: 0.3em;box-sizing: border-box;text-align: center;}#sk-container-id-1 label.sk-toggleable__label-arrow:before {content: \"▸\";float: left;margin-right: 0.25em;color: #696969;}#sk-container-id-1 label.sk-toggleable__label-arrow:hover:before {color: black;}#sk-container-id-1 div.sk-estimator:hover label.sk-toggleable__label-arrow:before {color: black;}#sk-container-id-1 div.sk-toggleable__content {max-height: 0;max-width: 0;overflow: hidden;text-align: left;background-color: #f0f8ff;}#sk-container-id-1 div.sk-toggleable__content pre {margin: 0.2em;color: black;border-radius: 0.25em;background-color: #f0f8ff;}#sk-container-id-1 input.sk-toggleable__control:checked~div.sk-toggleable__content {max-height: 200px;max-width: 100%;overflow: auto;}#sk-container-id-1 input.sk-toggleable__control:checked~label.sk-toggleable__label-arrow:before {content: \"▾\";}#sk-container-id-1 div.sk-estimator input.sk-toggleable__control:checked~label.sk-toggleable__label {background-color: #d4ebff;}#sk-container-id-1 div.sk-label input.sk-toggleable__control:checked~label.sk-toggleable__label {background-color: #d4ebff;}#sk-container-id-1 input.sk-hidden--visually {border: 0;clip: rect(1px 1px 1px 1px);clip: rect(1px, 1px, 1px, 1px);height: 1px;margin: -1px;overflow: hidden;padding: 0;position: absolute;width: 1px;}#sk-container-id-1 div.sk-estimator {font-family: monospace;background-color: #f0f8ff;border: 1px dotted black;border-radius: 0.25em;box-sizing: border-box;margin-bottom: 0.5em;}#sk-container-id-1 div.sk-estimator:hover {background-color: #d4ebff;}#sk-container-id-1 div.sk-parallel-item::after {content: \"\";width: 100%;border-bottom: 1px solid gray;flex-grow: 1;}#sk-container-id-1 div.sk-label:hover label.sk-toggleable__label {background-color: #d4ebff;}#sk-container-id-1 div.sk-serial::before {content: \"\";position: absolute;border-left: 1px solid gray;box-sizing: border-box;top: 0;bottom: 0;left: 50%;z-index: 0;}#sk-container-id-1 div.sk-serial {display: flex;flex-direction: column;align-items: center;background-color: white;padding-right: 0.2em;padding-left: 0.2em;position: relative;}#sk-container-id-1 div.sk-item {position: relative;z-index: 1;}#sk-container-id-1 div.sk-parallel {display: flex;align-items: stretch;justify-content: center;background-color: white;position: relative;}#sk-container-id-1 div.sk-item::before, #sk-container-id-1 div.sk-parallel-item::before {content: \"\";position: absolute;border-left: 1px solid gray;box-sizing: border-box;top: 0;bottom: 0;left: 50%;z-index: -1;}#sk-container-id-1 div.sk-parallel-item {display: flex;flex-direction: column;z-index: 1;position: relative;background-color: white;}#sk-container-id-1 div.sk-parallel-item:first-child::after {align-self: flex-end;width: 50%;}#sk-container-id-1 div.sk-parallel-item:last-child::after {align-self: flex-start;width: 50%;}#sk-container-id-1 div.sk-parallel-item:only-child::after {width: 0;}#sk-container-id-1 div.sk-dashed-wrapped {border: 1px dashed gray;margin: 0 0.4em 0.5em 0.4em;box-sizing: border-box;padding-bottom: 0.4em;background-color: white;}#sk-container-id-1 div.sk-label label {font-family: monospace;font-weight: bold;display: inline-block;line-height: 1.2em;}#sk-container-id-1 div.sk-label-container {text-align: center;}#sk-container-id-1 div.sk-container {/* jupyter's `normalize.less` sets `[hidden] { display: none; }` but bootstrap.min.css set `[hidden] { display: none !important; }` so we also need the `!important` here to be able to override the default hidden behavior on the sphinx rendered scikit-learn.org. See: https://github.com/scikit-learn/scikit-learn/issues/21755 */display: inline-block !important;position: relative;}#sk-container-id-1 div.sk-text-repr-fallback {display: none;}</style><div id=\"sk-container-id-1\" class=\"sk-top-container\"><div class=\"sk-text-repr-fallback\"><pre>LGBMRegressor(bagging_fraction=0.9701739475315172, bagging_freq=1,\n",
       "              device_type=&#x27;gpu&#x27;, feature_fraction=0.5157255582786685,\n",
       "              lambda_l1=4.211012328172116, lambda_l2=9.202439137047019,\n",
       "              learning_rate=0.03591987267524337, max_depth=8, metric=&#x27;rmse&#x27;,\n",
       "              min_child_samples=55, num_leaves=111, objective=&#x27;regression&#x27;)</pre><b>In a Jupyter environment, please rerun this cell to show the HTML representation or trust the notebook. <br />On GitHub, the HTML representation is unable to render, please try loading this page with nbviewer.org.</b></div><div class=\"sk-container\" hidden><div class=\"sk-item\"><div class=\"sk-estimator sk-toggleable\"><input class=\"sk-toggleable__control sk-hidden--visually\" id=\"sk-estimator-id-1\" type=\"checkbox\" checked><label for=\"sk-estimator-id-1\" class=\"sk-toggleable__label sk-toggleable__label-arrow\">LGBMRegressor</label><div class=\"sk-toggleable__content\"><pre>LGBMRegressor(bagging_fraction=0.9701739475315172, bagging_freq=1,\n",
       "              device_type=&#x27;gpu&#x27;, feature_fraction=0.5157255582786685,\n",
       "              lambda_l1=4.211012328172116, lambda_l2=9.202439137047019,\n",
       "              learning_rate=0.03591987267524337, max_depth=8, metric=&#x27;rmse&#x27;,\n",
       "              min_child_samples=55, num_leaves=111, objective=&#x27;regression&#x27;)</pre></div></div></div></div></div>"
      ],
      "text/plain": [
       "LGBMRegressor(bagging_fraction=0.9701739475315172, bagging_freq=1,\n",
       "              device_type='gpu', feature_fraction=0.5157255582786685,\n",
       "              lambda_l1=4.211012328172116, lambda_l2=9.202439137047019,\n",
       "              learning_rate=0.03591987267524337, max_depth=8, metric='rmse',\n",
       "              min_child_samples=55, num_leaves=111, objective='regression')"
      ]
     },
     "execution_count": 45,
     "metadata": {},
     "output_type": "execute_result"
    }
   ],
   "source": [
    "import lightgbm as lgb\n",
    "\n",
    "# Define the LightGBM model with RMSE as the evaluation metric\n",
    "lgb_model = lgb.LGBMRegressor(**best_lgb_params)\n",
    "\n",
    "# Fit the model\n",
    "lgb_model.fit(X_train, y_train)\n"
   ]
  },
  {
   "cell_type": "code",
   "execution_count": 46,
   "id": "ca1992ef",
   "metadata": {
    "execution": {
     "iopub.execute_input": "2024-09-11T15:35:24.171167Z",
     "iopub.status.busy": "2024-09-11T15:35:24.170438Z",
     "iopub.status.idle": "2024-09-11T15:35:24.393599Z",
     "shell.execute_reply": "2024-09-11T15:35:24.392552Z"
    },
    "papermill": {
     "duration": 0.249898,
     "end_time": "2024-09-11T15:35:24.395766",
     "exception": false,
     "start_time": "2024-09-11T15:35:24.145868",
     "status": "completed"
    },
    "tags": []
   },
   "outputs": [
    {
     "name": "stdout",
     "output_type": "stream",
     "text": [
      "[LightGBM] [Warning] feature_fraction is set=0.5157255582786685, colsample_bytree=1.0 will be ignored. Current value: feature_fraction=0.5157255582786685\n",
      "[LightGBM] [Warning] lambda_l2 is set=9.202439137047019, reg_lambda=0.0 will be ignored. Current value: lambda_l2=9.202439137047019\n",
      "[LightGBM] [Warning] lambda_l1 is set=4.211012328172116, reg_alpha=0.0 will be ignored. Current value: lambda_l1=4.211012328172116\n",
      "[LightGBM] [Warning] bagging_fraction is set=0.9701739475315172, subsample=1.0 will be ignored. Current value: bagging_fraction=0.9701739475315172\n",
      "[LightGBM] [Warning] bagging_freq is set=1, subsample_freq=0 will be ignored. Current value: bagging_freq=1\n"
     ]
    },
    {
     "data": {
      "text/plain": [
       "34674.560067038714"
      ]
     },
     "execution_count": 46,
     "metadata": {},
     "output_type": "execute_result"
    }
   ],
   "source": [
    "# LightGBM Predictions\n",
    "lgb_pred = lgb_model.predict(X_test)\n",
    "lgb_rmse = np.sqrt(mean_squared_error(y_test, lgb_pred))\n",
    "\n",
    "lgb_rmse"
   ]
  },
  {
   "cell_type": "markdown",
   "id": "9db86184",
   "metadata": {
    "papermill": {
     "duration": 0.023013,
     "end_time": "2024-09-11T15:35:24.441633",
     "exception": false,
     "start_time": "2024-09-11T15:35:24.418620",
     "status": "completed"
    },
    "tags": []
   },
   "source": [
    "# Prediction and Submission"
   ]
  },
  {
   "cell_type": "code",
   "execution_count": 47,
   "id": "b931764e",
   "metadata": {
    "execution": {
     "iopub.execute_input": "2024-09-11T15:35:24.489759Z",
     "iopub.status.busy": "2024-09-11T15:35:24.488986Z",
     "iopub.status.idle": "2024-09-11T15:35:25.554291Z",
     "shell.execute_reply": "2024-09-11T15:35:25.553126Z"
    },
    "papermill": {
     "duration": 1.092166,
     "end_time": "2024-09-11T15:35:25.556573",
     "exception": false,
     "start_time": "2024-09-11T15:35:24.464407",
     "status": "completed"
    },
    "tags": []
   },
   "outputs": [
    {
     "name": "stdout",
     "output_type": "stream",
     "text": [
      "[LightGBM] [Warning] feature_fraction is set=0.5157255582786685, colsample_bytree=1.0 will be ignored. Current value: feature_fraction=0.5157255582786685\n",
      "[LightGBM] [Warning] lambda_l2 is set=9.202439137047019, reg_lambda=0.0 will be ignored. Current value: lambda_l2=9.202439137047019\n",
      "[LightGBM] [Warning] lambda_l1 is set=4.211012328172116, reg_alpha=0.0 will be ignored. Current value: lambda_l1=4.211012328172116\n",
      "[LightGBM] [Warning] bagging_fraction is set=0.9701739475315172, subsample=1.0 will be ignored. Current value: bagging_fraction=0.9701739475315172\n",
      "[LightGBM] [Warning] bagging_freq is set=1, subsample_freq=0 will be ignored. Current value: bagging_freq=1\n"
     ]
    },
    {
     "data": {
      "text/html": [
       "<div>\n",
       "<style scoped>\n",
       "    .dataframe tbody tr th:only-of-type {\n",
       "        vertical-align: middle;\n",
       "    }\n",
       "\n",
       "    .dataframe tbody tr th {\n",
       "        vertical-align: top;\n",
       "    }\n",
       "\n",
       "    .dataframe thead th {\n",
       "        text-align: right;\n",
       "    }\n",
       "</style>\n",
       "<table border=\"1\" class=\"dataframe\">\n",
       "  <thead>\n",
       "    <tr style=\"text-align: right;\">\n",
       "      <th></th>\n",
       "      <th>id</th>\n",
       "      <th>class</th>\n",
       "    </tr>\n",
       "  </thead>\n",
       "  <tbody>\n",
       "    <tr>\n",
       "      <th>0</th>\n",
       "      <td>188533</td>\n",
       "      <td>18445.477487</td>\n",
       "    </tr>\n",
       "    <tr>\n",
       "      <th>1</th>\n",
       "      <td>188534</td>\n",
       "      <td>78137.704828</td>\n",
       "    </tr>\n",
       "    <tr>\n",
       "      <th>2</th>\n",
       "      <td>188535</td>\n",
       "      <td>55532.330060</td>\n",
       "    </tr>\n",
       "    <tr>\n",
       "      <th>3</th>\n",
       "      <td>188536</td>\n",
       "      <td>29935.442171</td>\n",
       "    </tr>\n",
       "    <tr>\n",
       "      <th>4</th>\n",
       "      <td>188537</td>\n",
       "      <td>30383.314395</td>\n",
       "    </tr>\n",
       "  </tbody>\n",
       "</table>\n",
       "</div>"
      ],
      "text/plain": [
       "       id         class\n",
       "0  188533  18445.477487\n",
       "1  188534  78137.704828\n",
       "2  188535  55532.330060\n",
       "3  188536  29935.442171\n",
       "4  188537  30383.314395"
      ]
     },
     "execution_count": 47,
     "metadata": {},
     "output_type": "execute_result"
    }
   ],
   "source": [
    "X = test.drop('id',axis=1)\n",
    "\n",
    "# Step 1: Extract test IDs\n",
    "test_ids = test['id']\n",
    "\n",
    "# Making predictions on test data\n",
    "y_test_pred = lgb_model.predict(X)\n",
    "\n",
    "# Step 4: Create a DataFrame with test IDs and predictions\n",
    "submission = pd.DataFrame({\n",
    "    'id': test_ids,\n",
    "    'class': y_test_pred\n",
    "})\n",
    "\n",
    "# Step 5: Save the submission file\n",
    "submission.to_csv('sample_submission.csv', index=False)\n",
    "\n",
    "# Display the first few rows of the submission file\n",
    "submission.head()\n"
   ]
  },
  {
   "cell_type": "code",
   "execution_count": 48,
   "id": "012a5bfd",
   "metadata": {
    "execution": {
     "iopub.execute_input": "2024-09-11T15:35:25.604433Z",
     "iopub.status.busy": "2024-09-11T15:35:25.603776Z",
     "iopub.status.idle": "2024-09-11T15:35:27.802572Z",
     "shell.execute_reply": "2024-09-11T15:35:27.800814Z"
    },
    "papermill": {
     "duration": 2.22637,
     "end_time": "2024-09-11T15:35:27.805821",
     "exception": false,
     "start_time": "2024-09-11T15:35:25.579451",
     "status": "completed"
    },
    "tags": []
   },
   "outputs": [
    {
     "name": "stdout",
     "output_type": "stream",
     "text": [
      "mv: cannot remove '/kaggle/input/my-api-key/kaggle.json': Read-only file system\r\n"
     ]
    }
   ],
   "source": [
    "import os\n",
    "\n",
    "# Create the .kaggle directory if it doesn't exist\n",
    "os.makedirs('/root/.kaggle', exist_ok=True)\n",
    "\n",
    "# Upload your kaggle.json file to the notebook\n",
    "# Then move it to the correct location\n",
    "!mv /kaggle/input/my-api-key/kaggle.json /root/.kaggle/kaggle.json\n",
    "\n",
    "# Set the correct permissions\n",
    "!chmod 600 /root/.kaggle/kaggle.json\n"
   ]
  },
  {
   "cell_type": "code",
   "execution_count": 49,
   "id": "e1086f24",
   "metadata": {
    "execution": {
     "iopub.execute_input": "2024-09-11T15:35:27.860181Z",
     "iopub.status.busy": "2024-09-11T15:35:27.859688Z",
     "iopub.status.idle": "2024-09-11T15:35:31.656046Z",
     "shell.execute_reply": "2024-09-11T15:35:31.654907Z"
    },
    "papermill": {
     "duration": 3.826725,
     "end_time": "2024-09-11T15:35:31.658685",
     "exception": false,
     "start_time": "2024-09-11T15:35:27.831960",
     "status": "completed"
    },
    "tags": []
   },
   "outputs": [
    {
     "name": "stdout",
     "output_type": "stream",
     "text": [
      "100%|██████████████████████████████████████| 3.04M/3.04M [00:00<00:00, 7.25MB/s]\r\n",
      "Successfully submitted to Regression of Used Car Prices"
     ]
    }
   ],
   "source": [
    "# Path to your submission file\n",
    "submission_file_path = '/kaggle/working/sample_submission.csv'\n",
    "\n",
    "# Kaggle competition details\n",
    "competition_name = 'playground-series-s4e9'  # Update with your competition name\n",
    "\n",
    "# Submit the file using Kaggle CLI\n",
    "!kaggle competitions submit -c {competition_name} -f {submission_file_path} -m \"best submission\""
   ]
  },
  {
   "cell_type": "code",
   "execution_count": null,
   "id": "ef8ab365",
   "metadata": {
    "papermill": {
     "duration": 0.0231,
     "end_time": "2024-09-11T15:35:31.705545",
     "exception": false,
     "start_time": "2024-09-11T15:35:31.682445",
     "status": "completed"
    },
    "tags": []
   },
   "outputs": [],
   "source": []
  }
 ],
 "metadata": {
  "kaggle": {
   "accelerator": "nvidiaTeslaT4",
   "dataSources": [
    {
     "databundleVersionId": 9057646,
     "sourceId": 76728,
     "sourceType": "competition"
    },
    {
     "datasetId": 5650716,
     "sourceId": 9327033,
     "sourceType": "datasetVersion"
    }
   ],
   "dockerImageVersionId": 30761,
   "isGpuEnabled": true,
   "isInternetEnabled": true,
   "language": "python",
   "sourceType": "notebook"
  },
  "kernelspec": {
   "display_name": "Python 3",
   "language": "python",
   "name": "python3"
  },
  "language_info": {
   "codemirror_mode": {
    "name": "ipython",
    "version": 3
   },
   "file_extension": ".py",
   "mimetype": "text/x-python",
   "name": "python",
   "nbconvert_exporter": "python",
   "pygments_lexer": "ipython3",
   "version": "3.10.14"
  },
  "papermill": {
   "default_parameters": {},
   "duration": 36.737057,
   "end_time": "2024-09-11T15:35:32.649861",
   "environment_variables": {},
   "exception": null,
   "input_path": "__notebook__.ipynb",
   "output_path": "__notebook__.ipynb",
   "parameters": {},
   "start_time": "2024-09-11T15:34:55.912804",
   "version": "2.6.0"
  }
 },
 "nbformat": 4,
 "nbformat_minor": 5
}
