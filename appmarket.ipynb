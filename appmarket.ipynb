{
 "cells": [
  {
   "cell_type": "code",
   "execution_count": 33,
   "id": "f6ac8938-792b-48c1-b016-9d4a09b9dd76",
   "metadata": {},
   "outputs": [],
   "source": [
    "import pandas as pd\n",
    "import numpy as np\n",
    "import matplotlib.pyplot as plt\n",
    "import re\n",
    "plt.rcParams['font.family'] = 'AppleGothic'"
   ]
  },
  {
   "cell_type": "code",
   "execution_count": 37,
   "id": "873b6f70-4a3f-4029-a7df-d45703f11dfb",
   "metadata": {},
   "outputs": [],
   "source": [
    "로아이 = pd.read_excel('/Users/user/Documents/NCD 데이터/ncd_로아이.xlsx')\n",
    "미리캔버스Pro = pd.read_excel('/Users/user/Documents/NCD 데이터/ncd_미리캔버스Pro.xlsx')\n",
    "위시켓 = pd.read_excel('/Users/user/Documents/NCD 데이터/ncd_위시켓.xlsx')\n",
    "유밥1 = pd.read_excel('/Users/user/Documents/NCD 데이터/ncd_유밥1.xlsx')\n",
    "유밥2 = pd.read_excel('/Users/user/Documents/NCD 데이터/ncd_유밥2.xlsx')\n",
    "유밥3 = pd.read_excel('/Users/user/Documents/NCD 데이터/ncd_유밥3.xlsx')\n",
    "유밥4 = pd.read_excel('/Users/user/Documents/NCD 데이터/ncd_유밥4.xlsx')\n",
    "주주free = pd.read_excel('/Users/user/Documents/NCD 데이터/ncd_주주free.xlsx')\n",
    "카택스 = pd.read_excel('/Users/user/Documents/NCD 데이터/ncd_카택스.xlsx')\n",
    "투디 = pd.read_excel('/Users/user/Documents/NCD 데이터/ncd_투디.xlsx')\n",
    "\n",
    "카택스_mig = pd.read_excel('/Users/user/Documents/NCD 데이터/ncd_카택스 비즈 플러스.xlsx')\n",
    "미리캔버스Pro_mig = pd.read_excel('/Users/user/Documents/NCD 데이터/ncd_웍스 옵션 플러스 미리캔버스(PRO).xlsx')\n",
    "유밥1_mig = pd.read_excel('/Users/user/Documents/NCD 데이터/ncd_웍스 옵션 플러스 유밥(법정필수).xlsx')\n",
    "유밥2_mig = pd.read_excel('/Users/user/Documents/NCD 데이터/ncd_웍스 옵션 플러스 유밥(법정필수+직무).xlsx')\n",
    "투디_mig = pd.read_excel('/Users/user/Documents/NCD 데이터/ncd_웍스 옵션 플러스 투디.xlsx')"
   ]
  },
  {
   "cell_type": "code",
   "execution_count": 39,
   "id": "52b1f0e7-411f-463f-ad5a-4172a2862a20",
   "metadata": {},
   "outputs": [],
   "source": [
    "로아이 = 로아이[로아이['회원그룹코드']!='INTL']\n",
    "미리캔버스Pro = 미리캔버스Pro[미리캔버스Pro['회원그룹코드']!='INTL']\n",
    "위시켓 = 위시켓[위시켓['회원그룹코드']!='INTL']\n",
    "유밥1 = 유밥1[유밥1['회원그룹코드']!='INTL']\n",
    "유밥2 = 유밥2[유밥2['회원그룹코드']!='INTL']\n",
    "유밥3 = 유밥3[유밥3['회원그룹코드']!='INTL']\n",
    "유밥4 = 유밥4[유밥4['회원그룹코드']!='INTL']\n",
    "주주free = 주주free[주주free['회원그룹코드']!='INTL']\n",
    "카택스 = 카택스[카택스['회원그룹코드']!='INTL']\n",
    "투디 = 투디[투디['회원그룹코드']!='INTL']\n",
    "\n",
    "카택스_mig = 카택스_mig[카택스_mig['회원그룹코드']!='INTL']\n",
    "미리캔버스Pro_mig = 미리캔버스Pro_mig[미리캔버스Pro_mig['회원그룹코드']!='INTL']\n",
    "유밥1_mig = 유밥1_mig[유밥1_mig['회원그룹코드']!='INTL']\n",
    "유밥2_mig = 유밥2_mig[유밥2_mig['회원그룹코드']!='INTL']\n",
    "투디_mig = 투디_mig[투디_mig['회원그룹코드']!='INTL']"
   ]
  },
  {
   "cell_type": "code",
   "execution_count": 41,
   "id": "834e2409-1c85-45ee-bea8-2a959110b679",
   "metadata": {},
   "outputs": [],
   "source": [
    "all = [로아이, 미리캔버스Pro, 위시켓, 유밥1, 유밥2, 유밥3, 유밥4, 주주free, 카택스, 투디, 카택스_mig, 미리캔버스Pro_mig, 유밥1_mig, 유밥2_mig, 투디_mig]"
   ]
  },
  {
   "cell_type": "code",
   "execution_count": 43,
   "id": "0d7ba054-277a-48d4-9b98-f576ef89c0b5",
   "metadata": {},
   "outputs": [],
   "source": [
    "b = []\n",
    "for i in all :\n",
    "    a = i.groupby('이용금액년월')['이용금액'].sum()\n",
    "    b.append(a)"
   ]
  },
  {
   "cell_type": "code",
   "execution_count": 45,
   "id": "5846558c-c6aa-4c21-a3c0-b3cc2d5845b9",
   "metadata": {},
   "outputs": [],
   "source": [
    "c = pd.DataFrame(b)"
   ]
  },
  {
   "cell_type": "code",
   "execution_count": 53,
   "id": "37a5ba66-7905-4c4e-8404-bdf2e8d70a5a",
   "metadata": {},
   "outputs": [],
   "source": [
    "c.to_excel('/Users/user/Documents/진행중 업무/option_plus_sales.xlsx',index=False)"
   ]
  },
  {
   "cell_type": "code",
   "execution_count": null,
   "id": "9848af09-e11e-4174-a4e6-bc333f1a21a1",
   "metadata": {},
   "outputs": [],
   "source": []
  }
 ],
 "metadata": {
  "kernelspec": {
   "display_name": "Python 3 (ipykernel)",
   "language": "python",
   "name": "python3"
  },
  "language_info": {
   "codemirror_mode": {
    "name": "ipython",
    "version": 3
   },
   "file_extension": ".py",
   "mimetype": "text/x-python",
   "name": "python",
   "nbconvert_exporter": "python",
   "pygments_lexer": "ipython3",
   "version": "3.12.4"
  }
 },
 "nbformat": 4,
 "nbformat_minor": 5
}
