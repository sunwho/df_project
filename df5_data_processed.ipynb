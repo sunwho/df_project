{
 "cells": [
  {
   "cell_type": "markdown",
   "metadata": {
    "id": "FnwPJ62biohV"
   },
   "source": []
  },
  {
   "cell_type": "code",
   "execution_count": 402,
   "metadata": {
    "id": "4395bTcfieLR"
   },
   "outputs": [],
   "source": [
    "import pandas as pd\n",
    "\n",
    "cp = pd.read_csv('/Users/user/Documents/DF/train.csv')"
   ]
  },
  {
   "cell_type": "code",
   "execution_count": 403,
   "metadata": {
    "id": "2sUHzn_FjX57"
   },
   "outputs": [],
   "source": [
    "drop_col=['model','engine']\n",
    "cp.drop(drop_col,axis=1,inplace=True)"
   ]
  },
  {
   "cell_type": "markdown",
   "metadata": {
    "id": "3k5WgsBdlM3j"
   },
   "source": [
    "### fuel_type"
   ]
  },
  {
   "cell_type": "code",
   "execution_count": 407,
   "metadata": {
    "colab": {
     "base_uri": "https://localhost:8080/"
    },
    "id": "Fb981bOujOBq",
    "outputId": "cf83b205-6552-4fe5-d2a0-e14beb9301a3"
   },
   "outputs": [
    {
     "name": "stdout",
     "output_type": "stream",
     "text": [
      "fuel_type\n",
      "Gasoline    171346\n",
      "Hybrid        7353\n",
      "Diesel        3955\n",
      "Name: count, dtype: int64\n",
      "Remaining data: 182654 rows\n"
     ]
    }
   ],
   "source": [
    "# 연료 타입 매핑\n",
    "fuel_mapping = {\n",
    "    'E85 Flex Fuel': 'Gasoline',  # E85 Flex Fuel -> Gasoline\n",
    "    'Plug-In Hybrid': 'Hybrid',  # Plug-In Hybrid -> Hybrid\n",
    "}\n",
    "\n",
    "# fuel_type 값 매핑 적용\n",
    "cp['fuel_type'] = cp['fuel_type'].replace(fuel_mapping)\n",
    "\n",
    "# 결측치 및 불필요한 데이터 삭제\n",
    "cp = cp.dropna(subset=['fuel_type'])  # NaN 행 삭제\n",
    "cp = cp[~cp['fuel_type'].isin(['not supported', '–'])]  # 'not supported'와 '–' 행 삭제\n",
    "\n",
    "# 결과 확인\n",
    "print(cp['fuel_type'].value_counts(dropna=False))\n",
    "print(f\"Remaining data: {cp.shape[0]} rows\")\n"
   ]
  },
  {
   "cell_type": "code",
   "execution_count": 409,
   "metadata": {
    "colab": {
     "base_uri": "https://localhost:8080/",
     "height": 210
    },
    "id": "Gk0GSiGElPKT",
    "outputId": "d2754476-eb3e-43e8-f870-ef8b5b85fdaa"
   },
   "outputs": [
    {
     "data": {
      "text/plain": [
       "fuel_type\n",
       "Gasoline    171346\n",
       "Hybrid        7353\n",
       "Diesel        3955\n",
       "Name: count, dtype: int64"
      ]
     },
     "execution_count": 409,
     "metadata": {},
     "output_type": "execute_result"
    }
   ],
   "source": [
    "cp['fuel_type'].value_counts()"
   ]
  },
  {
   "cell_type": "markdown",
   "metadata": {
    "id": "OqgZMithoLkg"
   },
   "source": [
    "### transmission"
   ]
  },
  {
   "cell_type": "code",
   "execution_count": 412,
   "metadata": {
    "id": "Jc-KCmdhVj-l"
   },
   "outputs": [],
   "source": [
    "## Transmission 값 정리\n",
    "def clean_transmission(value):\n",
    "    value = value.strip()  # 공백 제거\n",
    "    # DCT 관련 변환\n",
    "    if '7-Speed DCT Automatic' in value or 'Transmission w/Dual Shift Mode' in value:\n",
    "        return 'DCT'  # DCT로 변경\n",
    "    # CVT 관련 변환\n",
    "    elif 'CVT Transmission' in value or 'CVT-F' in value or 'Automatic CVT' in value:\n",
    "        return 'CVT'  # CVT로 변경\n",
    "    else:\n",
    "        return value  # 다른 값은 그대로 반환\n",
    "\n",
    "# transmission 컬럼 값 정리\n",
    "cp['transmission'] = cp['transmission'].apply(clean_transmission)\n",
    "\n",
    "# 삭제할 값 목록\n",
    "values_to_remove = [\n",
    "    \"Transmission Overdrive Switch\",\n",
    "    \"2\",\n",
    "    \"–\",\n",
    "    \"Variable\",\n",
    "    \"F\",\n",
    "    \"SCHEDULED FOR OR IN PRODUCTION\",\n",
    "    \"Single-Speed Fixed Gear\",\n",
    "    \"6-Speed\",  # 정확히 6-Speed인 행 삭제\n",
    "    \"7-Speed\"   # 정확히 7-Speed인 행 삭제\n",
    "]\n",
    "\n",
    "# transmission 컬럼에서 해당 값들과 정확히 일치하는 행 삭제\n",
    "cp = cp[~cp['transmission'].isin(values_to_remove)]"
   ]
  },
  {
   "cell_type": "code",
   "execution_count": 414,
   "metadata": {
    "colab": {
     "base_uri": "https://localhost:8080/"
    },
    "id": "4f_o06o2niM4",
    "outputId": "acbe4834-4acc-4870-c703-d4953e900a88"
   },
   "outputs": [
    {
     "name": "stdout",
     "output_type": "stream",
     "text": [
      "transmission\n",
      "A/T                                                   46959\n",
      "8-Speed A/T                                           20562\n",
      "DCT                                                   19187\n",
      "6-Speed A/T                                           17999\n",
      "6-Speed M/T                                           11892\n",
      "7-Speed A/T                                           11109\n",
      "Automatic                                             10383\n",
      "8-Speed Automatic                                      8415\n",
      "10-Speed A/T                                           8016\n",
      "9-Speed A/T                                            3852\n",
      "5-Speed A/T                                            3183\n",
      "10-Speed Automatic                                     3163\n",
      "CVT                                                    2818\n",
      "6-Speed Automatic                                      2796\n",
      "4-Speed A/T                                            2479\n",
      "5-Speed M/T                                            2342\n",
      "9-Speed Automatic                                      2323\n",
      "7-Speed Automatic with Auto-Shift                      1172\n",
      "M/T                                                    1170\n",
      "8-Speed Automatic with Auto-Shift                       548\n",
      "7-Speed M/T                                             354\n",
      "6-Speed Manual                                          211\n",
      "1-Speed A/T                                             194\n",
      "7-Speed Automatic                                       178\n",
      "5-Speed Automatic                                       159\n",
      "7-Speed Manual                                          151\n",
      "6-Speed Automatic with Auto-Shift                       111\n",
      "1-Speed Automatic                                       108\n",
      "4-Speed Automatic                                        47\n",
      "10-Speed Automatic with Overdrive                        39\n",
      "6 Speed Mt                                               37\n",
      "9-Speed Automatic with Auto-Shift                        33\n",
      "6-Speed Electronically Controlled Automatic with O       31\n",
      "8-Speed Manual                                           28\n",
      "Manual                                                   27\n",
      "6 Speed At/Mt                                            20\n",
      "2-Speed A/T                                              15\n",
      "8-SPEED AT                                               13\n",
      "2-Speed Automatic                                         8\n",
      "8-SPEED A/T                                               7\n",
      "Name: count, dtype: int64\n",
      "Remaining data: 182139 rows\n"
     ]
    }
   ],
   "source": [
    "# 특정 패턴을 가진 transmission 값을 변환하는 함수\n",
    "def replace_transmission(value):\n",
    "    # '6 speed mt M/T M/T' -> '6-speed a/t'\n",
    "    if '6 speed' in value.lower() and 'mt' in value.lower() and 'm/t' in value.lower():\n",
    "        return '6-Speed A/T'\n",
    "\n",
    "    # '6-speed electronically controlled A/T' -> '6-speed a/t'\n",
    "    elif '6-speed electronically controlled a/t' in value.lower():\n",
    "        return '6-Speed A/T'\n",
    "\n",
    "    # '6 speed at/mt A/T A/T' -> '6-speed a/t'\n",
    "    elif '6 speed' in value.lower() and 'at' in value.lower() and 'a/t' in value.lower():\n",
    "        return '6-Speed A/T'\n",
    "\n",
    "    # '8-speed at A/T A/T' -> '8-speed a/t'\n",
    "    elif '8-speed' in value.lower() and 'at' in value.lower() and 'a/t' in value.lower():\n",
    "        return '8-Speed A/T'\n",
    "\n",
    "    # 조건에 맞지 않으면 원래 값을 반환\n",
    "    return value\n",
    "\n",
    "# transmission 컬럼에 대해 변환 적용\n",
    "cp['transmission'] = cp['transmission'].apply(replace_transmission)\n",
    "\n",
    "# 결과 확인\n",
    "print(cp['transmission'].value_counts(dropna=False))\n",
    "print(f\"Remaining data: {cp.shape[0]} rows\")\n"
   ]
  },
  {
   "cell_type": "code",
   "execution_count": 416,
   "metadata": {
    "id": "04wYMgbSntEY"
   },
   "outputs": [],
   "source": [
    "# transmission 칼럼의 값을 모두 소문자로 변환\n",
    "cp['transmission'] = cp['transmission'].str.lower()"
   ]
  },
  {
   "cell_type": "code",
   "execution_count": 418,
   "metadata": {
    "colab": {
     "base_uri": "https://localhost:8080/",
     "height": 649
    },
    "id": "dinn_CSGn0oh",
    "outputId": "53d5b7fd-7a08-4a29-fcd2-defd0772cc2b"
   },
   "outputs": [
    {
     "data": {
      "text/plain": [
       "transmission\n",
       "a/t                                                   46959\n",
       "8-speed a/t                                           20569\n",
       "dct                                                   19187\n",
       "6-speed a/t                                           17999\n",
       "6-speed m/t                                           11892\n",
       "7-speed a/t                                           11109\n",
       "automatic                                             10383\n",
       "8-speed automatic                                      8415\n",
       "10-speed a/t                                           8016\n",
       "9-speed a/t                                            3852\n",
       "5-speed a/t                                            3183\n",
       "10-speed automatic                                     3163\n",
       "cvt                                                    2818\n",
       "6-speed automatic                                      2796\n",
       "4-speed a/t                                            2479\n",
       "5-speed m/t                                            2342\n",
       "9-speed automatic                                      2323\n",
       "7-speed automatic with auto-shift                      1172\n",
       "m/t                                                    1170\n",
       "8-speed automatic with auto-shift                       548\n",
       "7-speed m/t                                             354\n",
       "6-speed manual                                          211\n",
       "1-speed a/t                                             194\n",
       "7-speed automatic                                       178\n",
       "5-speed automatic                                       159\n",
       "7-speed manual                                          151\n",
       "6-speed automatic with auto-shift                       111\n",
       "1-speed automatic                                       108\n",
       "4-speed automatic                                        47\n",
       "10-speed automatic with overdrive                        39\n",
       "6 speed mt                                               37\n",
       "9-speed automatic with auto-shift                        33\n",
       "6-speed electronically controlled automatic with o       31\n",
       "8-speed manual                                           28\n",
       "manual                                                   27\n",
       "6 speed at/mt                                            20\n",
       "2-speed a/t                                              15\n",
       "8-speed at                                               13\n",
       "2-speed automatic                                         8\n",
       "Name: count, dtype: int64"
      ]
     },
     "execution_count": 418,
     "metadata": {},
     "output_type": "execute_result"
    }
   ],
   "source": [
    "cp['transmission'].value_counts()"
   ]
  },
  {
   "cell_type": "code",
   "execution_count": null,
   "metadata": {
    "id": "WI2es2acoJEQ"
   },
   "outputs": [],
   "source": []
  },
  {
   "cell_type": "markdown",
   "metadata": {
    "id": "V1IA4A81oRW_"
   },
   "source": [
    "### out col"
   ]
  },
  {
   "cell_type": "code",
   "execution_count": 422,
   "metadata": {
    "colab": {
     "base_uri": "https://localhost:8080/"
    },
    "id": "Ejbm5J5KoQ5I",
    "outputId": "4d4d8388-616e-495f-b12f-861ee86fbf85"
   },
   "outputs": [
    {
     "name": "stdout",
     "output_type": "stream",
     "text": [
      "ext_col\n",
      "Black     49292\n",
      "White     44015\n",
      "Gray      41976\n",
      "Blue      14495\n",
      "Etc       11072\n",
      "Red       10761\n",
      "Green      2900\n",
      "Gold       1663\n",
      "Brown      1257\n",
      "Silver     1252\n",
      "Orange     1104\n",
      "Beige      1065\n",
      "Yellow      958\n",
      "Purple      329\n",
      "Name: count, dtype: int64\n"
     ]
    }
   ],
   "source": [
    "# 대표 색상 매핑 정의 (수정된 버전)\n",
    "representative_colors = {\n",
    "    'Black': [\n",
    "        'Black', 'Santorini Black Metallic', 'Obsidian Black Metallic', 'Ebony Black', 'Mythos Black',\n",
    "        'Beluga Black', 'Black Sapphire Metallic', 'Midnight Black', 'Black Raven', 'Black Obsidian',\n",
    "        'Black Cherry', 'Black Noir Pearl', 'Phantom Black Pearl Effect / Black Roof', 'Crystal Black Pearl',\n",
    "        'Stellar Black Metallic', 'Aurora Black', 'Jet Black Mica', 'Black Clearcoat', 'DB Black Clearcoat'\n",
    "    ],\n",
    "    'White': [\n",
    "        'White', 'designo Diamond White Metallic', 'Snowflake White Pearl', 'Glacial White Pearl',\n",
    "        'Fuji White', 'Ultra White', 'White Frost Tri-Coat', 'Platinum White Pearl', 'White Diamond Tri-Coat',\n",
    "        'Bright White Clearcoat', 'Snow White Pearl Metallic', 'Frozen White'\n",
    "    ],\n",
    "    'Gray': [\n",
    "        'Gray', 'Silver', 'Shadow Gray Metallic', 'Daytona Gray', 'Daytona Gray Pearl Effect',\n",
    "        'Nebula Gray Pearl', 'Graphite Grey Metallic', 'Magnetic Gray Clearcoat', 'Arctic Gray Metallic',\n",
    "        'Granite Crystal Clearcoat Metallic', 'Magnetic Metallic'\n",
    "    ],\n",
    "    'Silver': [\n",
    "        'Silver', 'Satin Steel Metallic', 'Brilliant Silver Metallic', 'Atomic Silver',\n",
    "        'Billet Silver Metallic Clearcoat', 'Silver Radiance', 'Silver Zynith', 'Silver Ice Metallic',\n",
    "        'Lunar Silver Metallic'\n",
    "    ],\n",
    "    'Blue': [\n",
    "        'Blue', 'Antimatter Blue Metallic', 'Lunar Blue Metallic', 'Deep Blue Metallic',\n",
    "        'Nautical Blue Pearl', 'Midnight Blue Metallic', 'Pacific Blue Metallic', 'Blu', 'Blueprint',\n",
    "        'Dark Moon Blue Metallic'\n",
    "    ],\n",
    "    'Red': [\n",
    "        'Red', 'Firecracker Red Clearcoat', 'Velvet Red Pearlcoat', 'Rosso Mars Metallic', 'Matador Red Metallic',\n",
    "        'Siren Red Tintcoat', 'Barcelona Red', 'Ruby Flare Pearl', 'Soul Red Crystal Metallic',\n",
    "        'Cajun Red Tintcoat', 'Rosso', 'Delmonico Red Pearlcoat'\n",
    "    ],\n",
    "    'Green': [\n",
    "        'Green', 'Emerald Green Metallic', 'Python Green', 'Lizard Green', 'Dark Moss', 'Firenze Red'\n",
    "    ],\n",
    "    'Gold': [\n",
    "        'Gold', 'Bronze Dune Metallic'\n",
    "    ],\n",
    "    'Brown': [\n",
    "        'Brown', 'Tan', 'Kodiak Brown Metallic', 'Cajun Red Tintcoat', 'Dark Slate Metallic'\n",
    "    ],\n",
    "    'Yellow': ['Yellow'],\n",
    "    'Orange': ['Orange'],\n",
    "    'Beige': ['Beige'],\n",
    "    'Purple': ['Purple'],\n",
    "    'Etc': [\n",
    "        'C / C', 'Designo Magno Matte'  # 모르는 색상 추가\n",
    "    ]\n",
    "}\n",
    "# 색상 매핑 및 개수 확인\n",
    "def map_colors(color):\n",
    "    for rep_color, colors in representative_colors.items():\n",
    "        if color in colors:\n",
    "            return rep_color\n",
    "    return 'Etc'  # 매칭되지 않는 색상은 'Etc'로 반환\n",
    "\n",
    "cp['ext_col'] = cp['ext_col'].apply(map_colors)\n",
    "rep_color_counts = cp['ext_col'].value_counts()\n",
    "print(rep_color_counts)"
   ]
  },
  {
   "cell_type": "code",
   "execution_count": 424,
   "metadata": {
    "colab": {
     "base_uri": "https://localhost:8080/",
     "height": 554
    },
    "id": "UBCTSmYWpTTP",
    "outputId": "77476e87-be8e-44ae-f71c-4a6a86b329b8"
   },
   "outputs": [
    {
     "data": {
      "text/plain": [
       "ext_col\n",
       "Black     49292\n",
       "White     44015\n",
       "Gray      41976\n",
       "Blue      14495\n",
       "Etc       11072\n",
       "Red       10761\n",
       "Green      2900\n",
       "Gold       1663\n",
       "Brown      1257\n",
       "Silver     1252\n",
       "Orange     1104\n",
       "Beige      1065\n",
       "Yellow      958\n",
       "Purple      329\n",
       "Name: count, dtype: int64"
      ]
     },
     "execution_count": 424,
     "metadata": {},
     "output_type": "execute_result"
    }
   ],
   "source": [
    "cp['ext_col'].value_counts()"
   ]
  },
  {
   "cell_type": "markdown",
   "metadata": {
    "id": "e2YUyqXUqAde"
   },
   "source": [
    "### int col"
   ]
  },
  {
   "cell_type": "code",
   "execution_count": 427,
   "metadata": {
    "colab": {
     "base_uri": "https://localhost:8080/"
    },
    "id": "KM9Yj6p1ppwm",
    "outputId": "ae963e7c-5c68-4e57-af10-cb34ea0ea08f"
   },
   "outputs": [
    {
     "name": "stdout",
     "output_type": "stream",
     "text": [
      "int_col\n",
      "Black                         104144\n",
      "Beige                          23972\n",
      "Gray                           20683\n",
      "Brown                           5743\n",
      "Red                             5035\n",
      "–                               4403\n",
      "White                           3646\n",
      "Jet Black                       2386\n",
      "Ebony                           1789\n",
      "Orange                           919\n",
      "Blue                             704\n",
      "Global Black                     627\n",
      "Silver                           400\n",
      "Nero Ade                         370\n",
      "Gold                             331\n",
      "Black / Express Red              320\n",
      "Graphite                         252\n",
      "Rioja Red                        240\n",
      "Diesel Gray / Black              223\n",
      "Black Onyx                       202\n",
      "Charcoal                         198\n",
      "Green                            181\n",
      "Medium Stone                     170\n",
      "Medium Earth Gray                169\n",
      "Sandstone                        158\n",
      "Parchment                        152\n",
      "Satin Black                      150\n",
      "Tan                              148\n",
      "Canberra Beige/Black             138\n",
      "Shara Beige                      126\n",
      "Macchiato/Magmagrey              111\n",
      "Hotspur Hide                     102\n",
      "Black/Gun Metal                  102\n",
      "Espresso                          87\n",
      "Canberra Beige                    87\n",
      "White / Brown                     76\n",
      "Charcoal Black                    72\n",
      "Light Slate                       69\n",
      "Ice                               68\n",
      "Walnut                            67\n",
      "Silk Beige/Espresso Brown         67\n",
      "Charles Blue                      66\n",
      "Deep Cypress                      64\n",
      "Macchiato                         60\n",
      "Titan Black / Quarzit             59\n",
      "Blk                               57\n",
      "Medium Dark Slate                 57\n",
      "Mesa                              56\n",
      "Graphite w/Gun Metal              55\n",
      "Black w/Red Stitching             55\n",
      "Ebony Black                       53\n",
      "Ceramic                           53\n",
      "Mocha                             52\n",
      "Yellow                            51\n",
      "Portland                          50\n",
      "Adrenaline Red                    49\n",
      "Beluga Hide                       48\n",
      "Black/Saddle Brown                48\n",
      "Slate                             45\n",
      "Grace White                       45\n",
      "Navy Pier                         45\n",
      "Hotspur                           44\n",
      "Medium Light Camel                43\n",
      "Ebony / Pimento                   42\n",
      "Gideon                            41\n",
      "Black / Saddle                    41\n",
      "Brandy                            40\n",
      "Anthracite                        40\n",
      "Parchment.                        40\n",
      "Pimento Red w/Ebony               39\n",
      "Aragon Brown                      38\n",
      "Pimento / Ebony                   37\n",
      "Light Titanium                    37\n",
      "Nero                              37\n",
      "Black / Brown                     36\n",
      "Pearl Beige                       36\n",
      "Ebony.                            34\n",
      "Oyster W/Contrast                 34\n",
      "Ebony/Light Oyster Stitch         34\n",
      "BLACK                             33\n",
      "Red / Black                       33\n",
      "Black/Red                         32\n",
      "Sakhir Orange/Black               31\n",
      "Ash                               31\n",
      "Sahara Tan                        31\n",
      "Tan/Ebony                         30\n",
      "Sarder Brown                      30\n",
      "Chestnut                          30\n",
      "Almond Beige                      29\n",
      "Dark Galvanized                   29\n",
      "Tan/Ebony/Ebony                   29\n",
      "Ivory / Ebony                     28\n",
      "Titan Black                       28\n",
      "Oyster/Black                      27\n",
      "Light Platinum / Jet Black        27\n",
      "Deep Chestnut                     27\n",
      "Mountain Brown                    27\n",
      "Linen                             27\n",
      "Saiga Beige                       27\n",
      "Camel Leather                     26\n",
      "Rock Gray                         26\n",
      "Shale                             25\n",
      "Cloud                             24\n",
      "Silk Beige/Black                  24\n",
      "Deep Garnet                       24\n",
      "Macchiato Beige/Black             24\n",
      "Camel                             24\n",
      "Graystone                         23\n",
      "Saddle Brown                      23\n",
      "AMG Black                         23\n",
      "Magma Red                         22\n",
      "Medium Ash Gray                   22\n",
      "Ebony / Ebony Accents             22\n",
      "Black/Graphite                    21\n",
      "Sakhir Orange                     21\n",
      "Black / Stone Grey                21\n",
      "Medium Pewter                     21\n",
      "Black / Graphite                  20\n",
      "Boulder                           20\n",
      "Chateau                           20\n",
      "Sand Beige                        19\n",
      "Agave Green                       19\n",
      "Obsidian Black                    18\n",
      "Rhapsody Blue                     18\n",
      "Gray w/Blue Bolsters              17\n",
      "Tension                           17\n",
      "Dark Ash                          16\n",
      "Amber                             16\n",
      "Whisper Beige                     15\n",
      "Dark Auburn                       15\n",
      "Roast                             15\n",
      "Red/Black                         15\n",
      "Dark Gray                         15\n",
      "Caramel                           15\n",
      "Porpoise                          14\n",
      "Platinum                          13\n",
      "Giallo Taurus / Nero Ade          13\n",
      "Tupelo                            12\n",
      "Black / Gray                      12\n",
      "Cocoa / Dune                      12\n",
      "Kyalami Orange                    12\n",
      "Cappuccino                        10\n",
      "Orchid                            10\n",
      "Sport                             10\n",
      "Very Light Cashmere               10\n",
      "Beluga                             9\n",
      "Mistral Gray / Raven               9\n",
      "Carbon Black                       8\n",
      "Light Gray                         8\n",
      "Classic Red                        7\n",
      "Nougat Brown                       7\n",
      "Bianco Polar                       6\n",
      "WHITE                              6\n",
      "Cobalt Blue                        4\n",
      "BEIGE                              4\n",
      "ORANGE                             3\n",
      "Name: count, dtype: int64\n"
     ]
    }
   ],
   "source": [
    "# 모든 행을 출력할 수 있도록 설정\n",
    "pd.set_option('display.max_rows', None)\n",
    "\n",
    "# ext_col의 고유 값과 각 값의 개수 확인\n",
    "value_counts = cp['int_col'].value_counts()\n",
    "print(value_counts)"
   ]
  },
  {
   "cell_type": "code",
   "execution_count": 428,
   "metadata": {
    "id": "tIWQTPsCqtot"
   },
   "outputs": [],
   "source": [
    "# 색상 매핑 정의\n",
    "representative_colors = {\n",
    "    'Black': ['Black', 'Santorini Black Metallic', 'Obsidian Black Metallic', 'Ebony Black', 'Mythos Black', 'Beluga Black', 'Black Sapphire Metallic', 'Midnight Black', 'Black Raven', 'Black Obsidian', 'Black Cherry', 'Black Noir Pearl', 'Phantom Black Pearl Effect / Black Roof', 'Crystal Black Pearl', 'Stellar Black Metallic', 'Aurora Black'],\n",
    "    'White': ['White', 'designo Diamond White Metallic', 'Snowflake White Pearl', 'Glacial White Pearl', 'Fuji White', 'Ultra White', 'White Frost Tri-Coat', 'Platinum White Pearl', 'White Diamond Tri-Coat'],\n",
    "    'Gray': ['Gray', 'Silver', 'Shadow Gray Metallic', 'Daytona Gray', 'Daytona Gray Pearl Effect', 'Nebula Gray Pearl', 'Graphite Grey Metallic', 'Magnetic Gray Clearcoat', 'Arctic Gray Metallic'],\n",
    "    'Silver': ['Silver', 'Satin Steel Metallic', 'Brilliant Silver Metallic', 'Atomic Silver', 'Billet Silver Metallic Clearcoat', 'Silver Radiance', 'Silver Zynith'],\n",
    "    'Blue': ['Blue', 'Antimatter Blue Metallic', 'Lunar Blue Metallic', 'Deep Blue Metallic', 'Nautical Blue Pearl', 'Midnight Blue Metallic', 'Pacific Blue Metallic'],\n",
    "    'Red': ['Red', 'Firecracker Red Clearcoat', 'Velvet Red Pearlcoat', 'Rosso Mars Metallic', 'Matador Red Metallic', 'Siren Red Tintcoat', 'Barcelona Red', 'Ruby Flare Pearl'],\n",
    "    'Green': ['Green', 'Emerald Green Metallic', 'Python Green', 'Lizard Green'],\n",
    "    'Gold': ['Gold', 'Bronze Dune Metallic'],\n",
    "    'Brown': ['Brown', 'Tan', 'Kodiak Brown Metallic'],\n",
    "    'Yellow': ['Yellow'],\n",
    "    'Orange': ['Orange'],\n",
    "    'Beige': ['Beige'],\n",
    "    'Purple': ['Purple'],\n",
    "    'Etc': []  # 모르는 색상을 여기로 분류\n",
    "}\n",
    "\n",
    "# '/'가 있는 경우, 첫 번째 색상을 기준으로 분류하는 함수\n",
    "def map_to_representative_color(color):\n",
    "    primary_color = color.split('/')[0].strip()  # '/' 기준으로 앞쪽 색상 추출\n",
    "    for rep_color, color_list in representative_colors.items():\n",
    "        if any(primary_color in c for c in color_list):\n",
    "            return rep_color\n",
    "    return 'Etc'  # 매핑되지 않은 색상은 'Etc'로 분류\n",
    "\n",
    "# 데이터프레임 컬럼에 매핑 적용\n",
    "cp['int_col'] = cp['int_col'].apply(map_to_representative_color)\n",
    "\n"
   ]
  },
  {
   "cell_type": "code",
   "execution_count": 430,
   "metadata": {
    "colab": {
     "base_uri": "https://localhost:8080/",
     "height": 492
    },
    "id": "63b5-yomq3rs",
    "outputId": "fd696891-4f71-4236-e9d6-0bc805975108"
   },
   "outputs": [
    {
     "data": {
      "text/plain": [
       "int_col\n",
       "Black     106764\n",
       "Beige      23972\n",
       "Gray       21335\n",
       "Etc        13114\n",
       "Brown       5950\n",
       "Red         5083\n",
       "White       3735\n",
       "Orange       919\n",
       "Blue         704\n",
       "Gold         331\n",
       "Green        181\n",
       "Yellow        51\n",
       "Name: count, dtype: int64"
      ]
     },
     "execution_count": 430,
     "metadata": {},
     "output_type": "execute_result"
    }
   ],
   "source": [
    "cp['int_col'].value_counts()"
   ]
  },
  {
   "cell_type": "markdown",
   "metadata": {
    "id": "XbvA3gfIrBWF"
   },
   "source": [
    "### model year, accident, clean_title"
   ]
  },
  {
   "cell_type": "code",
   "execution_count": 434,
   "metadata": {
    "id": "ginE-ZRmq9hl"
   },
   "outputs": [],
   "source": [
    "cp[\"model_year\"] = 2024 - cp[\"model_year\"]\n"
   ]
  },
  {
   "cell_type": "code",
   "execution_count": 436,
   "metadata": {
    "id": "7FuObPkerG81"
   },
   "outputs": [
    {
     "name": "stderr",
     "output_type": "stream",
     "text": [
      "/var/folders/yj/y3b7nzyn7zv0l9bkqtj_37g40000gn/T/ipykernel_6972/1409608088.py:1: FutureWarning: A value is trying to be set on a copy of a DataFrame or Series through chained assignment using an inplace method.\n",
      "The behavior will change in pandas 3.0. This inplace method will never work because the intermediate object on which we are setting values always behaves as a copy.\n",
      "\n",
      "For example, when doing 'df[col].method(value, inplace=True)', try using 'df.method({col: value}, inplace=True)' or df[col] = df[col].method(value) instead, to perform the operation inplace on the original object.\n",
      "\n",
      "\n",
      "  cp['accident'].fillna('None reported', inplace=True)\n"
     ]
    }
   ],
   "source": [
    "cp['accident'].fillna('None reported', inplace=True)"
   ]
  },
  {
   "cell_type": "code",
   "execution_count": 438,
   "metadata": {
    "id": "uqfGcsfCrJdN"
   },
   "outputs": [
    {
     "name": "stderr",
     "output_type": "stream",
     "text": [
      "/var/folders/yj/y3b7nzyn7zv0l9bkqtj_37g40000gn/T/ipykernel_6972/3055727686.py:1: FutureWarning: A value is trying to be set on a copy of a DataFrame or Series through chained assignment using an inplace method.\n",
      "The behavior will change in pandas 3.0. This inplace method will never work because the intermediate object on which we are setting values always behaves as a copy.\n",
      "\n",
      "For example, when doing 'df[col].method(value, inplace=True)', try using 'df.method({col: value}, inplace=True)' or df[col] = df[col].method(value) instead, to perform the operation inplace on the original object.\n",
      "\n",
      "\n",
      "  cp['clean_title'].fillna('Unknown', inplace=True)\n"
     ]
    }
   ],
   "source": [
    "cp['clean_title'].fillna('Unknown', inplace=True)"
   ]
  },
  {
   "cell_type": "code",
   "execution_count": 440,
   "metadata": {
    "id": "PZ3cr3NGrh7M"
   },
   "outputs": [],
   "source": [
    "# cp를 'processed_cp.csv'로 저장\n",
    "# cp.to_csv('processed_cp.csv', index=False, encoding='utf-8-sig')"
   ]
  },
  {
   "cell_type": "code",
   "execution_count": 442,
   "metadata": {},
   "outputs": [
    {
     "data": {
      "image/png": "[encoded data removed]",
      "text/plain": [
       "<Figure size 1200x800 with 2 Axes>"
      ]
     },
     "metadata": {},
     "output_type": "display_data"
    }
   ],
   "source": [
    "cp_numeric = cp.select_dtypes(include=[float, int])\n",
    "\n",
    "# 상관계수 행렬 계산\n",
    "correlation_matrix = cp_numeric.corr()\n",
    "\n",
    "# 히트맵 시각화\n",
    "import matplotlib.pyplot as plt\n",
    "import seaborn as sns\n",
    "\n",
    "plt.figure(figsize=(12, 8))\n",
    "sns.heatmap(correlation_matrix, annot=True, cmap='coolwarm')\n",
    "plt.show()"
   ]
  },
  {
   "cell_type": "markdown",
   "metadata": {
    "id": "t7HP2NllrQnd"
   },
   "source": [
    "## 인코딩"
   ]
  },
  {
   "cell_type": "code",
   "execution_count": 445,
   "metadata": {},
   "outputs": [],
   "source": [
    "# 원핫인코딩할 열 지정\n",
    "columns_to_encode = ['brand', 'fuel_type', 'transmission', 'ext_col', 'int_col', 'accident', 'clean_title']\n",
    "\n",
    "# 원핫인코딩 수행\n",
    "cp_encoded = pd.get_dummies(cp, columns=columns_to_encode, drop_first=True)\n"
   ]
  },
  {
   "cell_type": "code",
   "execution_count": 447,
   "metadata": {},
   "outputs": [
    {
     "name": "stdout",
     "output_type": "stream",
     "text": [
      "brand_Alfa: 679\n",
      "brand_Aston: 235\n",
      "brand_Audi: 10756\n",
      "brand_BMW: 16953\n",
      "brand_Bentley: 1148\n",
      "brand_Bugatti: 7\n",
      "brand_Buick: 938\n",
      "brand_Cadillac: 4634\n",
      "brand_Chevrolet: 16135\n",
      "brand_Chrysler: 693\n",
      "brand_Dodge: 2918\n",
      "brand_FIAT: 42\n",
      "brand_Ferrari: 356\n",
      "brand_Ford: 22532\n",
      "brand_GMC: 3184\n",
      "brand_Genesis: 966\n",
      "brand_Honda: 2081\n",
      "brand_Hummer: 518\n",
      "brand_Hyundai: 2008\n",
      "brand_INFINITI: 3247\n",
      "brand_Jaguar: 1304\n",
      "brand_Jeep: 6448\n",
      "brand_Karma: 5\n",
      "brand_Kia: 2442\n",
      "brand_Lamborghini: 785\n",
      "brand_Land: 9514\n",
      "brand_Lexus: 8601\n",
      "brand_Lincoln: 2419\n",
      "brand_Lotus: 51\n",
      "brand_Lucid: 17\n",
      "brand_MINI: 1059\n",
      "brand_Maserati: 936\n",
      "brand_Maybach: 2\n",
      "brand_Mazda: 2655\n",
      "brand_McLaren: 242\n",
      "brand_Mercedes-Benz: 19084\n",
      "brand_Mercury: 50\n",
      "brand_Mitsubishi: 549\n",
      "brand_Nissan: 3825\n",
      "brand_Plymouth: 7\n",
      "brand_Polestar: 2\n",
      "brand_Pontiac: 533\n",
      "brand_Porsche: 10305\n",
      "brand_RAM: 4239\n",
      "brand_Rivian: 91\n",
      "brand_Rolls-Royce: 556\n",
      "brand_Saab: 22\n",
      "brand_Saturn: 147\n",
      "brand_Scion: 120\n",
      "brand_Subaru: 2378\n",
      "brand_Suzuki: 8\n",
      "brand_Tesla: 375\n",
      "brand_Toyota: 8750\n",
      "brand_Volkswagen: 1735\n",
      "brand_Volvo: 703\n",
      "brand_smart: 2\n"
     ]
    }
   ],
   "source": [
    "# 원핫인코딩된 브랜드별 데이터 확인\n",
    "brand_columns = [col for col in cp_encoded.columns if 'brand_' in col]\n",
    "\n",
    "# 각 브랜드에 대한 빈도 확인\n",
    "for col in brand_columns:\n",
    "    print(f\"{col}: {cp_encoded[col].sum()}\")  # 각 브랜드별로 해당하는 데이터 수"
   ]
  },
  {
   "cell_type": "code",
   "execution_count": 449,
   "metadata": {},
   "outputs": [
    {
     "name": "stdout",
     "output_type": "stream",
     "text": [
      "럭셔리 브랜드 병합 후 데이터 크기: (182139, 123)\n"
     ]
    }
   ],
   "source": [
    "# 럭셔리 브랜드 병합 (예시)\n",
    "cp_encoded['luxury_brand'] = (\n",
    "    cp_encoded['brand_Bentley'] +\n",
    "    cp_encoded['brand_Rolls-Royce'] +\n",
    "    cp_encoded['brand_Lamborghini'] +\n",
    "    cp_encoded['brand_Ferrari']\n",
    ").apply(lambda x: 1 if x > 0 else 0)\n",
    "\n",
    "# 병합 후 개별 브랜드 열 제거\n",
    "cp_encoded = cp_encoded.drop(columns=['brand_Bentley', 'brand_Rolls-Royce', 'brand_Lamborghini', 'brand_Ferrari'])\n",
    "\n",
    "print(\"럭셔리 브랜드 병합 후 데이터 크기:\", cp_encoded.shape)\n"
   ]
  },
  {
   "cell_type": "code",
   "execution_count": 451,
   "metadata": {},
   "outputs": [
    {
     "name": "stdout",
     "output_type": "stream",
     "text": [
      "이상치 제거 후 데이터 크기: (175999, 123)\n"
     ]
    }
   ],
   "source": [
    "# IQR을 사용하여 이상치 탐지 및 제거\n",
    "def remove_outliers(df, column):\n",
    "    Q1 = df[column].quantile(0.25)\n",
    "    Q3 = df[column].quantile(0.75)\n",
    "    IQR = Q3 - Q1\n",
    "    lower_bound = Q1 - 1.5 * IQR\n",
    "    upper_bound = Q3 + 1.5 * IQR\n",
    "    # 이상치 제거\n",
    "    df_clean = df[(df[column] >= lower_bound) & (df[column] <= upper_bound)]\n",
    "    return df_clean\n",
    "\n",
    "# 주행거리 및 연식에서 이상치 제거\n",
    "cp_x_clean = remove_outliers(cp_encoded, 'milage')\n",
    "cp_x_clean = remove_outliers(cp_x_clean, 'model_year')\n",
    "\n",
    "print(\"이상치 제거 후 데이터 크기:\", cp_x_clean.shape)"
   ]
  },
  {
   "cell_type": "code",
   "execution_count": 453,
   "metadata": {},
   "outputs": [
    {
     "data": {
      "text/html": [
       "<div>\n",
       "<style scoped>\n",
       "    .dataframe tbody tr th:only-of-type {\n",
       "        vertical-align: middle;\n",
       "    }\n",
       "\n",
       "    .dataframe tbody tr th {\n",
       "        vertical-align: top;\n",
       "    }\n",
       "\n",
       "    .dataframe thead th {\n",
       "        text-align: right;\n",
       "    }\n",
       "</style>\n",
       "<table border=\"1\" class=\"dataframe\">\n",
       "  <thead>\n",
       "    <tr style=\"text-align: right;\">\n",
       "      <th></th>\n",
       "      <th>id</th>\n",
       "      <th>model_year</th>\n",
       "      <th>milage</th>\n",
       "      <th>price</th>\n",
       "      <th>brand_Alfa</th>\n",
       "      <th>brand_Aston</th>\n",
       "      <th>brand_Audi</th>\n",
       "      <th>brand_BMW</th>\n",
       "      <th>brand_Bugatti</th>\n",
       "      <th>brand_Buick</th>\n",
       "      <th>...</th>\n",
       "      <th>int_col_Gold</th>\n",
       "      <th>int_col_Gray</th>\n",
       "      <th>int_col_Green</th>\n",
       "      <th>int_col_Orange</th>\n",
       "      <th>int_col_Red</th>\n",
       "      <th>int_col_White</th>\n",
       "      <th>int_col_Yellow</th>\n",
       "      <th>accident_None reported</th>\n",
       "      <th>clean_title_Yes</th>\n",
       "      <th>luxury_brand</th>\n",
       "    </tr>\n",
       "  </thead>\n",
       "  <tbody>\n",
       "    <tr>\n",
       "      <th>3</th>\n",
       "      <td>3</td>\n",
       "      <td>7</td>\n",
       "      <td>19500</td>\n",
       "      <td>45000</td>\n",
       "      <td>False</td>\n",
       "      <td>False</td>\n",
       "      <td>False</td>\n",
       "      <td>False</td>\n",
       "      <td>False</td>\n",
       "      <td>False</td>\n",
       "      <td>...</td>\n",
       "      <td>False</td>\n",
       "      <td>False</td>\n",
       "      <td>False</td>\n",
       "      <td>False</td>\n",
       "      <td>False</td>\n",
       "      <td>False</td>\n",
       "      <td>False</td>\n",
       "      <td>True</td>\n",
       "      <td>True</td>\n",
       "      <td>0</td>\n",
       "    </tr>\n",
       "    <tr>\n",
       "      <th>4</th>\n",
       "      <td>4</td>\n",
       "      <td>3</td>\n",
       "      <td>7388</td>\n",
       "      <td>97500</td>\n",
       "      <td>False</td>\n",
       "      <td>False</td>\n",
       "      <td>False</td>\n",
       "      <td>False</td>\n",
       "      <td>False</td>\n",
       "      <td>False</td>\n",
       "      <td>...</td>\n",
       "      <td>False</td>\n",
       "      <td>False</td>\n",
       "      <td>False</td>\n",
       "      <td>False</td>\n",
       "      <td>False</td>\n",
       "      <td>False</td>\n",
       "      <td>False</td>\n",
       "      <td>True</td>\n",
       "      <td>True</td>\n",
       "      <td>0</td>\n",
       "    </tr>\n",
       "    <tr>\n",
       "      <th>5</th>\n",
       "      <td>5</td>\n",
       "      <td>6</td>\n",
       "      <td>40950</td>\n",
       "      <td>29950</td>\n",
       "      <td>False</td>\n",
       "      <td>False</td>\n",
       "      <td>True</td>\n",
       "      <td>False</td>\n",
       "      <td>False</td>\n",
       "      <td>False</td>\n",
       "      <td>...</td>\n",
       "      <td>False</td>\n",
       "      <td>False</td>\n",
       "      <td>False</td>\n",
       "      <td>False</td>\n",
       "      <td>False</td>\n",
       "      <td>False</td>\n",
       "      <td>False</td>\n",
       "      <td>True</td>\n",
       "      <td>True</td>\n",
       "      <td>0</td>\n",
       "    </tr>\n",
       "    <tr>\n",
       "      <th>6</th>\n",
       "      <td>6</td>\n",
       "      <td>8</td>\n",
       "      <td>62200</td>\n",
       "      <td>28500</td>\n",
       "      <td>False</td>\n",
       "      <td>False</td>\n",
       "      <td>True</td>\n",
       "      <td>False</td>\n",
       "      <td>False</td>\n",
       "      <td>False</td>\n",
       "      <td>...</td>\n",
       "      <td>False</td>\n",
       "      <td>False</td>\n",
       "      <td>False</td>\n",
       "      <td>False</td>\n",
       "      <td>False</td>\n",
       "      <td>False</td>\n",
       "      <td>False</td>\n",
       "      <td>True</td>\n",
       "      <td>True</td>\n",
       "      <td>0</td>\n",
       "    </tr>\n",
       "    <tr>\n",
       "      <th>7</th>\n",
       "      <td>7</td>\n",
       "      <td>8</td>\n",
       "      <td>102604</td>\n",
       "      <td>12500</td>\n",
       "      <td>False</td>\n",
       "      <td>False</td>\n",
       "      <td>False</td>\n",
       "      <td>False</td>\n",
       "      <td>False</td>\n",
       "      <td>False</td>\n",
       "      <td>...</td>\n",
       "      <td>False</td>\n",
       "      <td>True</td>\n",
       "      <td>False</td>\n",
       "      <td>False</td>\n",
       "      <td>False</td>\n",
       "      <td>False</td>\n",
       "      <td>False</td>\n",
       "      <td>True</td>\n",
       "      <td>True</td>\n",
       "      <td>0</td>\n",
       "    </tr>\n",
       "  </tbody>\n",
       "</table>\n",
       "<p>5 rows × 123 columns</p>\n",
       "</div>"
      ],
      "text/plain": [
       "   id  model_year  milage  price  brand_Alfa  brand_Aston  brand_Audi  \\\n",
       "3   3           7   19500  45000       False        False       False   \n",
       "4   4           3    7388  97500       False        False       False   \n",
       "5   5           6   40950  29950       False        False        True   \n",
       "6   6           8   62200  28500       False        False        True   \n",
       "7   7           8  102604  12500       False        False       False   \n",
       "\n",
       "   brand_BMW  brand_Bugatti  brand_Buick  ...  int_col_Gold  int_col_Gray  \\\n",
       "3      False          False        False  ...         False         False   \n",
       "4      False          False        False  ...         False         False   \n",
       "5      False          False        False  ...         False         False   \n",
       "6      False          False        False  ...         False         False   \n",
       "7      False          False        False  ...         False          True   \n",
       "\n",
       "   int_col_Green  int_col_Orange  int_col_Red  int_col_White  int_col_Yellow  \\\n",
       "3          False           False        False          False           False   \n",
       "4          False           False        False          False           False   \n",
       "5          False           False        False          False           False   \n",
       "6          False           False        False          False           False   \n",
       "7          False           False        False          False           False   \n",
       "\n",
       "   accident_None reported  clean_title_Yes  luxury_brand  \n",
       "3                    True             True             0  \n",
       "4                    True             True             0  \n",
       "5                    True             True             0  \n",
       "6                    True             True             0  \n",
       "7                    True             True             0  \n",
       "\n",
       "[5 rows x 123 columns]"
      ]
     },
     "execution_count": 453,
     "metadata": {},
     "output_type": "execute_result"
    }
   ],
   "source": [
    "cp_x_clean.head()"
   ]
  },
  {
   "cell_type": "code",
   "execution_count": 455,
   "metadata": {},
   "outputs": [],
   "source": [
    "cp_y = cp_x_clean['price']\n",
    "cp_x_clean = cp_x_clean.drop(['id','price'],axis=1)"
   ]
  },
  {
   "cell_type": "code",
   "execution_count": 457,
   "metadata": {},
   "outputs": [
    {
     "data": {
      "text/html": [
       "<div>\n",
       "<style scoped>\n",
       "    .dataframe tbody tr th:only-of-type {\n",
       "        vertical-align: middle;\n",
       "    }\n",
       "\n",
       "    .dataframe tbody tr th {\n",
       "        vertical-align: top;\n",
       "    }\n",
       "\n",
       "    .dataframe thead th {\n",
       "        text-align: right;\n",
       "    }\n",
       "</style>\n",
       "<table border=\"1\" class=\"dataframe\">\n",
       "  <thead>\n",
       "    <tr style=\"text-align: right;\">\n",
       "      <th></th>\n",
       "      <th>model_year</th>\n",
       "      <th>milage</th>\n",
       "      <th>brand_Alfa</th>\n",
       "      <th>brand_Aston</th>\n",
       "      <th>brand_Audi</th>\n",
       "      <th>brand_BMW</th>\n",
       "      <th>brand_Bugatti</th>\n",
       "      <th>brand_Buick</th>\n",
       "      <th>brand_Cadillac</th>\n",
       "      <th>brand_Chevrolet</th>\n",
       "      <th>...</th>\n",
       "      <th>int_col_Gold</th>\n",
       "      <th>int_col_Gray</th>\n",
       "      <th>int_col_Green</th>\n",
       "      <th>int_col_Orange</th>\n",
       "      <th>int_col_Red</th>\n",
       "      <th>int_col_White</th>\n",
       "      <th>int_col_Yellow</th>\n",
       "      <th>accident_None reported</th>\n",
       "      <th>clean_title_Yes</th>\n",
       "      <th>luxury_brand</th>\n",
       "    </tr>\n",
       "  </thead>\n",
       "  <tbody>\n",
       "    <tr>\n",
       "      <th>3</th>\n",
       "      <td>7</td>\n",
       "      <td>19500</td>\n",
       "      <td>False</td>\n",
       "      <td>False</td>\n",
       "      <td>False</td>\n",
       "      <td>False</td>\n",
       "      <td>False</td>\n",
       "      <td>False</td>\n",
       "      <td>False</td>\n",
       "      <td>False</td>\n",
       "      <td>...</td>\n",
       "      <td>False</td>\n",
       "      <td>False</td>\n",
       "      <td>False</td>\n",
       "      <td>False</td>\n",
       "      <td>False</td>\n",
       "      <td>False</td>\n",
       "      <td>False</td>\n",
       "      <td>True</td>\n",
       "      <td>True</td>\n",
       "      <td>0</td>\n",
       "    </tr>\n",
       "    <tr>\n",
       "      <th>4</th>\n",
       "      <td>3</td>\n",
       "      <td>7388</td>\n",
       "      <td>False</td>\n",
       "      <td>False</td>\n",
       "      <td>False</td>\n",
       "      <td>False</td>\n",
       "      <td>False</td>\n",
       "      <td>False</td>\n",
       "      <td>False</td>\n",
       "      <td>False</td>\n",
       "      <td>...</td>\n",
       "      <td>False</td>\n",
       "      <td>False</td>\n",
       "      <td>False</td>\n",
       "      <td>False</td>\n",
       "      <td>False</td>\n",
       "      <td>False</td>\n",
       "      <td>False</td>\n",
       "      <td>True</td>\n",
       "      <td>True</td>\n",
       "      <td>0</td>\n",
       "    </tr>\n",
       "    <tr>\n",
       "      <th>5</th>\n",
       "      <td>6</td>\n",
       "      <td>40950</td>\n",
       "      <td>False</td>\n",
       "      <td>False</td>\n",
       "      <td>True</td>\n",
       "      <td>False</td>\n",
       "      <td>False</td>\n",
       "      <td>False</td>\n",
       "      <td>False</td>\n",
       "      <td>False</td>\n",
       "      <td>...</td>\n",
       "      <td>False</td>\n",
       "      <td>False</td>\n",
       "      <td>False</td>\n",
       "      <td>False</td>\n",
       "      <td>False</td>\n",
       "      <td>False</td>\n",
       "      <td>False</td>\n",
       "      <td>True</td>\n",
       "      <td>True</td>\n",
       "      <td>0</td>\n",
       "    </tr>\n",
       "    <tr>\n",
       "      <th>6</th>\n",
       "      <td>8</td>\n",
       "      <td>62200</td>\n",
       "      <td>False</td>\n",
       "      <td>False</td>\n",
       "      <td>True</td>\n",
       "      <td>False</td>\n",
       "      <td>False</td>\n",
       "      <td>False</td>\n",
       "      <td>False</td>\n",
       "      <td>False</td>\n",
       "      <td>...</td>\n",
       "      <td>False</td>\n",
       "      <td>False</td>\n",
       "      <td>False</td>\n",
       "      <td>False</td>\n",
       "      <td>False</td>\n",
       "      <td>False</td>\n",
       "      <td>False</td>\n",
       "      <td>True</td>\n",
       "      <td>True</td>\n",
       "      <td>0</td>\n",
       "    </tr>\n",
       "    <tr>\n",
       "      <th>7</th>\n",
       "      <td>8</td>\n",
       "      <td>102604</td>\n",
       "      <td>False</td>\n",
       "      <td>False</td>\n",
       "      <td>False</td>\n",
       "      <td>False</td>\n",
       "      <td>False</td>\n",
       "      <td>False</td>\n",
       "      <td>False</td>\n",
       "      <td>True</td>\n",
       "      <td>...</td>\n",
       "      <td>False</td>\n",
       "      <td>True</td>\n",
       "      <td>False</td>\n",
       "      <td>False</td>\n",
       "      <td>False</td>\n",
       "      <td>False</td>\n",
       "      <td>False</td>\n",
       "      <td>True</td>\n",
       "      <td>True</td>\n",
       "      <td>0</td>\n",
       "    </tr>\n",
       "  </tbody>\n",
       "</table>\n",
       "<p>5 rows × 121 columns</p>\n",
       "</div>"
      ],
      "text/plain": [
       "   model_year  milage  brand_Alfa  brand_Aston  brand_Audi  brand_BMW  \\\n",
       "3           7   19500       False        False       False      False   \n",
       "4           3    7388       False        False       False      False   \n",
       "5           6   40950       False        False        True      False   \n",
       "6           8   62200       False        False        True      False   \n",
       "7           8  102604       False        False       False      False   \n",
       "\n",
       "   brand_Bugatti  brand_Buick  brand_Cadillac  brand_Chevrolet  ...  \\\n",
       "3          False        False           False            False  ...   \n",
       "4          False        False           False            False  ...   \n",
       "5          False        False           False            False  ...   \n",
       "6          False        False           False            False  ...   \n",
       "7          False        False           False             True  ...   \n",
       "\n",
       "   int_col_Gold  int_col_Gray  int_col_Green  int_col_Orange  int_col_Red  \\\n",
       "3         False         False          False           False        False   \n",
       "4         False         False          False           False        False   \n",
       "5         False         False          False           False        False   \n",
       "6         False         False          False           False        False   \n",
       "7         False          True          False           False        False   \n",
       "\n",
       "   int_col_White  int_col_Yellow  accident_None reported  clean_title_Yes  \\\n",
       "3          False           False                    True             True   \n",
       "4          False           False                    True             True   \n",
       "5          False           False                    True             True   \n",
       "6          False           False                    True             True   \n",
       "7          False           False                    True             True   \n",
       "\n",
       "   luxury_brand  \n",
       "3             0  \n",
       "4             0  \n",
       "5             0  \n",
       "6             0  \n",
       "7             0  \n",
       "\n",
       "[5 rows x 121 columns]"
      ]
     },
     "execution_count": 457,
     "metadata": {},
     "output_type": "execute_result"
    }
   ],
   "source": [
    "cp_x_clean.head()"
   ]
  },
  {
   "cell_type": "code",
   "execution_count": 459,
   "metadata": {},
   "outputs": [
    {
     "data": {
      "image/png": "[encoded data removed]",
      "text/plain": [
       "<Figure size 1400x600 with 2 Axes>"
      ]
     },
     "metadata": {},
     "output_type": "display_data"
    }
   ],
   "source": [
    "import matplotlib.pyplot as plt\n",
    "import seaborn as sns\n",
    "import numpy as np\n",
    "import scipy.stats as stats\n",
    "\n",
    "# cp_y를 시리즈로 변환 (이 부분은 cp_y가 DataFrame이 아닌 Series일 경우)\n",
    "cp_y_series = cp_y.squeeze()  # cp_y가 DataFrame이라면 Series로 변환\n",
    "\n",
    "# 히스토그램 및 Q-Q plot 그리기\n",
    "plt.figure(figsize=(14, 6))\n",
    "\n",
    "# 원래 가격 히스토그램\n",
    "plt.subplot(1, 2, 1)  # 1행 2열의 첫 번째 subplot\n",
    "sns.histplot(cp_y_series, bins=20, kde=True)\n",
    "plt.title('Histogram of Car Prices')\n",
    "plt.xlabel('Price')\n",
    "plt.ylabel('Frequency')\n",
    "\n",
    "# Q-Q plot\n",
    "plt.subplot(1, 2, 2)  # 1행 2열의 두 번째 subplot\n",
    "stats.probplot(cp_y_series, dist=\"norm\", plot=plt)\n",
    "plt.title('Q-Q Plot of Car Prices')\n",
    "\n",
    "plt.tight_layout()\n",
    "plt.show()"
   ]
  },
  {
   "cell_type": "code",
   "execution_count": 460,
   "metadata": {},
   "outputs": [
    {
     "data": {
      "image/png": "[encoded data removed]",
      "text/plain": [
       "<Figure size 1400x600 with 2 Axes>"
      ]
     },
     "metadata": {},
     "output_type": "display_data"
    }
   ],
   "source": [
    "# 로그 변환 (log(1 + x) 형태로 변환)\n",
    "cp_y_log = np.log1p(cp_y_series)\n",
    "\n",
    "# 로그 변환된 가격 히스토그램\n",
    "plt.figure(figsize=(14, 6))\n",
    "plt.subplot(1, 2, 1)  # 1행 2열의 첫 번째 subplot\n",
    "sns.histplot(cp_y_log, bins=20, kde=True)\n",
    "plt.title('Histogram of Log-Transformed Car Prices')\n",
    "plt.xlabel('Log(1 + Price)')\n",
    "plt.ylabel('Frequency')\n",
    "\n",
    "# 로그 변환된 데이터 Q-Q plot\n",
    "plt.subplot(1, 2, 2)  # 1행 2열의 두 번째 subplot\n",
    "stats.probplot(cp_y_log, dist=\"norm\", plot=plt)\n",
    "plt.title('Q-Q Plot of Log-Transformed Car Prices')\n",
    "\n",
    "plt.tight_layout()\n",
    "plt.show()"
   ]
  },
  {
   "cell_type": "code",
   "execution_count": 462,
   "metadata": {},
   "outputs": [],
   "source": [
    "from sklearn.preprocessing import StandardScaler\n",
    "\n",
    "scaler = StandardScaler()\n",
    "cp_x_clean[['milage', 'model_year']] = scaler.fit_transform(cp_x_clean[['milage', 'model_year']])"
   ]
  },
  {
   "cell_type": "code",
   "execution_count": 463,
   "metadata": {},
   "outputs": [
    {
     "name": "stdout",
     "output_type": "stream",
     "text": [
      "RMSE: 0.5194056638168891\n",
      "RMSE2: 73765.48106487222\n"
     ]
    }
   ],
   "source": [
    "from sklearn.model_selection import train_test_split\n",
    "from sklearn.linear_model import LinearRegression\n",
    "from sklearn.preprocessing import StandardScaler\n",
    "from sklearn.metrics import mean_squared_error, mean_absolute_error, root_mean_squared_error\n",
    "\n",
    "X_train, X_test, y_train, y_test = train_test_split(cp_x_clean, cp_y_log, test_size=0.2, random_state=42)\n",
    "\n",
    "# 선형 회귀 모델 적합\n",
    "model = LinearRegression()\n",
    "model.fit(X_train, y_train)\n",
    "\n",
    "# 테스트 데이터로 예측\n",
    "y_pred = model.predict(X_test)\n",
    "\n",
    "# 로그 변환을 푼 후 예측 값 복원\n",
    "y_pred_log = model.predict(X_test)\n",
    "y_pred2 = np.exp(y_pred_log)  # 로그 변환 푼 값 (지수 변환)\n",
    "\n",
    "# 실제 값도 원래 값으로\n",
    "y_test2 = np.exp(y_test)\n",
    "\n",
    "# 새로운 RMSE 계산 방식 사용\n",
    "rmse = root_mean_squared_error(y_test, y_pred)\n",
    "print(f\"RMSE: {rmse}\")\n",
    "\n",
    "rmse2 = root_mean_squared_error(y_test2, y_pred2)\n",
    "print(f\"RMSE2: {rmse2}\")"
   ]
  },
  {
   "cell_type": "code",
   "execution_count": null,
   "metadata": {},
   "outputs": [],
   "source": []
  },
  {
   "cell_type": "code",
   "execution_count": 42,
   "metadata": {
    "id": "_7NYZ9nBrMZt"
   },
   "outputs": [],
   "source": [
    "\n"
   ]
  },
  {
   "cell_type": "code",
   "execution_count": null,
   "metadata": {},
   "outputs": [],
   "source": []
  },
  {
   "cell_type": "code",
   "execution_count": null,
   "metadata": {},
   "outputs": [],
   "source": []
  }
 ],
 "metadata": {
  "colab": {
   "provenance": []
  },
  "kernelspec": {
   "display_name": "Python 3 (ipykernel)",
   "language": "python",
   "name": "python3"
  },
  "language_info": {
   "codemirror_mode": {
    "name": "ipython",
    "version": 3
   },
   "file_extension": ".py",
   "mimetype": "text/x-python",
   "name": "python",
   "nbconvert_exporter": "python",
   "pygments_lexer": "ipython3",
   "version": "3.12.4"
  }
 },
 "nbformat": 4,
 "nbformat_minor": 4
}
